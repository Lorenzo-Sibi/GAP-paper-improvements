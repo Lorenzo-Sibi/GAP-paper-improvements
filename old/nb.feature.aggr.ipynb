{
 "cells": [
  {
   "cell_type": "code",
   "execution_count": 32,
   "id": "5238f964",
   "metadata": {},
   "outputs": [],
   "source": [
    "%reload_ext autoreload\n",
    "%autoreload 2\n",
    "\n",
    "from datasets import Dataset\n",
    "import torch\n",
    "from torch_geometric.utils import subgraph, degree\n",
    "from tqdm.auto import tqdm\n",
    "import matplotlib.pyplot as plt"
   ]
  },
  {
   "cell_type": "code",
   "execution_count": 88,
   "id": "51d087dc-e6ee-4e77-b2e3-85fdf2673cff",
   "metadata": {},
   "outputs": [
    {
     "data": {
      "text/plain": [
       "8710"
      ]
     },
     "execution_count": 88,
     "metadata": {},
     "output_type": "execute_result"
    }
   ],
   "source": [
    "data = Dataset('cora').load()\n",
    "data.num_features\n",
    "data.num_features"
   ]
  },
  {
   "cell_type": "code",
   "execution_count": 77,
   "id": "8368942c-c223-4995-8ce2-213fcbfc11f6",
   "metadata": {},
   "outputs": [
    {
     "data": {
      "text/plain": [
       "tensor([[0., 0., 0.,  ..., 0., 0., 0.],\n",
       "        [0., 0., 0.,  ..., 0., 0., 0.],\n",
       "        [0., 0., 0.,  ..., 0., 0., 0.],\n",
       "        ...,\n",
       "        [0., 0., 0.,  ..., 0., 0., 0.],\n",
       "        [0., 0., 0.,  ..., 0., 0., 0.],\n",
       "        [0., 0., 0.,  ..., 0., 0., 0.]])"
      ]
     },
     "execution_count": 77,
     "metadata": {},
     "output_type": "execute_result"
    }
   ],
   "source": [
    "data.x"
   ]
  },
  {
   "cell_type": "code",
   "execution_count": 78,
   "id": "4ebeec82-fcdb-4bb4-9ceb-ab3fce285d83",
   "metadata": {},
   "outputs": [
    {
     "data": {
      "text/plain": [
       "tensor([[0.1072, 0.0000, 0.0000,  ..., 0.0000, 0.0000, 0.0000],\n",
       "        [0.0000, 0.0000, 0.0000,  ..., 0.0000, 0.0000, 0.0000],\n",
       "        [0.0000, 0.0000, 0.0000,  ..., 0.0000, 0.0000, 0.0000],\n",
       "        ...,\n",
       "        [0.0000, 0.0000, 0.0000,  ..., 0.0000, 0.0000, 0.0000],\n",
       "        [0.1187, 0.0000, 0.0000,  ..., 0.0000, 0.0000, 0.0000],\n",
       "        [0.0000, 0.0000, 0.0000,  ..., 0.0000, 0.0000, 0.0000]])"
      ]
     },
     "execution_count": 78,
     "metadata": {},
     "output_type": "execute_result"
    }
   ],
   "source": [
    "x = torch.nn.functional.normalize(data.x, p=2, dim=-1)\n",
    "agg = data.adj_t.matmul(x)\n",
    "agg"
   ]
  },
  {
   "cell_type": "code",
   "execution_count": 79,
   "id": "1250c278-d3d9-431d-b0f0-de47693084d7",
   "metadata": {},
   "outputs": [
    {
     "data": {
      "text/plain": [
       "(tensor(2.), tensor(7.4084), tensor(298.))"
      ]
     },
     "execution_count": 79,
     "metadata": {},
     "output_type": "execute_result"
    }
   ],
   "source": [
    "deg = data.adj_t.sum(dim=1)\n",
    "deg.min(), deg.mean(), deg.max()"
   ]
  },
  {
   "cell_type": "code",
   "execution_count": 80,
   "id": "fa3cb25b-1fe8-4b04-a986-2a10cd6c945f",
   "metadata": {},
   "outputs": [
    {
     "data": {
      "text/plain": [
       "(22, 26, 14810)"
      ]
     },
     "execution_count": 80,
     "metadata": {},
     "output_type": "execute_result"
    }
   ],
   "source": [
    "idx_min = (deg == deg.min()+1).nonzero()[0].item()\n",
    "idx_avg = (deg == int(deg.mean())).nonzero()[0].item()\n",
    "idx_max = (deg == deg.max()).nonzero()[0].item()\n",
    "\n",
    "idx_min, idx_avg, idx_max"
   ]
  },
  {
   "cell_type": "code",
   "execution_count": 81,
   "id": "99983cef-ac3e-45a7-ab91-836ba51764b1",
   "metadata": {},
   "outputs": [
    {
     "data": {
      "image/png": "[encoded data removed]",
      "text/plain": [
       "<Figure size 432x288 with 1 Axes>"
      ]
     },
     "metadata": {
      "needs_background": "light"
     },
     "output_type": "display_data"
    }
   ],
   "source": [
    "plt.hist(agg[idx_min].numpy(), bins=50, color='b')\n",
    "plt.yscale('log')"
   ]
  },
  {
   "cell_type": "code",
   "execution_count": 82,
   "id": "f5bdfa82-bffd-4c6d-bd19-372a66c2cc29",
   "metadata": {},
   "outputs": [
    {
     "data": {
      "image/png": "[encoded data removed]",
      "text/plain": [
       "<Figure size 432x288 with 1 Axes>"
      ]
     },
     "metadata": {
      "needs_background": "light"
     },
     "output_type": "display_data"
    }
   ],
   "source": [
    "plt.hist(agg[idx_avg].numpy(), bins=50, color='b')\n",
    "plt.yscale('log')"
   ]
  },
  {
   "cell_type": "code",
   "execution_count": 83,
   "id": "154e1cec-a56a-49c7-ad94-6dfcf38d471e",
   "metadata": {},
   "outputs": [
    {
     "data": {
      "image/png": "[encoded data removed]",
      "text/plain": [
       "<Figure size 432x288 with 1 Axes>"
      ]
     },
     "metadata": {
      "needs_background": "light"
     },
     "output_type": "display_data"
    }
   ],
   "source": [
    "plt.hist(agg[idx_max].numpy(), bins=50, color='b')\n",
    "plt.yscale('log')"
   ]
  },
  {
   "cell_type": "code",
   "execution_count": 84,
   "id": "ce1927be-f2e0-4ba7-abdd-1fc0c87b20ec",
   "metadata": {},
   "outputs": [
    {
     "data": {
      "text/plain": [
       "tensor([[ 0.4304, -0.3574, -0.6412,  ...,  0.0271, -0.5211,  0.1864],\n",
       "        [-0.2694,  2.4563,  0.3544,  ...,  0.3072,  1.1229,  0.8788],\n",
       "        [ 0.7383,  0.9242, -1.0799,  ..., -1.6167, -1.2671,  0.5506],\n",
       "        ...,\n",
       "        [ 1.7223,  0.3245, -0.7667,  ..., -0.8478,  0.1184,  0.0447],\n",
       "        [-0.3856, -2.1953, -0.1422,  ..., -1.5196,  0.1204,  0.5863],\n",
       "        [-0.1890, -0.5210, -0.7800,  ..., -1.0485, -0.3876, -0.7174]])"
      ]
     },
     "execution_count": 84,
     "metadata": {},
     "output_type": "execute_result"
    }
   ],
   "source": [
    "agg_noisy = torch.normal(mean=agg, std=1)\n",
    "agg_noisy"
   ]
  },
  {
   "cell_type": "code",
   "execution_count": 85,
   "id": "2ceff9de-fdea-40be-9fbb-befac15c4334",
   "metadata": {},
   "outputs": [
    {
     "data": {
      "image/png": "[encoded data removed]",
      "text/plain": [
       "<Figure size 432x288 with 1 Axes>"
      ]
     },
     "metadata": {
      "needs_background": "light"
     },
     "output_type": "display_data"
    }
   ],
   "source": [
    "plt.hist(agg_noisy[idx_min].numpy(), bins=50, color='b')\n",
    "plt.yscale('log')"
   ]
  },
  {
   "cell_type": "code",
   "execution_count": 86,
   "id": "6bb1ce4d-d9ad-4c0b-9a37-f9b7bd985a14",
   "metadata": {},
   "outputs": [
    {
     "data": {
      "image/png": "[encoded data removed]",
      "text/plain": [
       "<Figure size 432x288 with 1 Axes>"
      ]
     },
     "metadata": {
      "needs_background": "light"
     },
     "output_type": "display_data"
    }
   ],
   "source": [
    "plt.hist(agg_noisy[idx_avg].numpy(), bins=50, color='b')\n",
    "plt.yscale('log')"
   ]
  },
  {
   "cell_type": "code",
   "execution_count": 87,
   "id": "0f838f85-85a7-424f-bf89-f870c1fc862e",
   "metadata": {},
   "outputs": [
    {
     "data": {
      "image/png": "[encoded data removed]",
      "text/plain": [
       "<Figure size 432x288 with 1 Axes>"
      ]
     },
     "metadata": {
      "needs_background": "light"
     },
     "output_type": "display_data"
    }
   ],
   "source": [
    "plt.hist(agg_noisy[idx_max].numpy(), bins=50, color='b')\n",
    "plt.yscale('log')"
   ]
  },
  {
   "cell_type": "code",
   "execution_count": null,
   "id": "e12d1657-4401-4a8a-9aaf-ac807136e8f9",
   "metadata": {},
   "outputs": [],
   "source": []
  },
  {
   "cell_type": "code",
   "execution_count": null,
   "id": "dc97efcd-d928-4072-b909-89bf35af90c5",
   "metadata": {},
   "outputs": [],
   "source": []
  },
  {
   "cell_type": "code",
   "execution_count": null,
   "id": "99b3b18c-4026-40b3-b5da-704ca06b645b",
   "metadata": {},
   "outputs": [],
   "source": []
  },
  {
   "cell_type": "code",
   "execution_count": null,
   "id": "df16066a-d58c-4a0b-a3ca-47efa4e0dacb",
   "metadata": {},
   "outputs": [],
   "source": []
  },
  {
   "cell_type": "code",
   "execution_count": null,
   "id": "98210018-2ee6-44d3-ba5f-e3e71e4c725c",
   "metadata": {},
   "outputs": [],
   "source": []
  },
  {
   "cell_type": "code",
   "execution_count": null,
   "id": "73e912ab-4c46-4c87-8d55-0adaa86d9e45",
   "metadata": {},
   "outputs": [],
   "source": []
  },
  {
   "cell_type": "code",
   "execution_count": 61,
   "id": "2bb40812-9531-44f4-affa-89fc1fee91ab",
   "metadata": {},
   "outputs": [
    {
     "data": {
      "text/plain": [
       "tensor([[ 1.2584,  1.9566,  1.4098,  ...,  2.0456, -4.6365, -5.1398],\n",
       "        [-1.7037, -0.0425, -0.8998,  ...,  0.1366,  1.9501,  0.2354],\n",
       "        [ 1.1183,  1.9120,  0.1034,  ..., -0.4107, -0.8710, -0.9316],\n",
       "        ...,\n",
       "        [-0.5052, -1.0593,  2.6781,  ...,  1.9629,  3.7252,  2.1979],\n",
       "        [ 1.2456, -0.8671, -5.4962,  ...,  0.6749,  2.9515,  0.5998],\n",
       "        [ 0.3246,  1.0969, -1.8548,  ...,  0.7631, -0.2520,  0.0876]])"
      ]
     },
     "execution_count": 61,
     "metadata": {},
     "output_type": "execute_result"
    }
   ],
   "source": [
    "agg_feature = data.adj_t.matmul(torch.normal(mean=x, std=1))\n",
    "agg_feature"
   ]
  },
  {
   "cell_type": "code",
   "execution_count": 62,
   "id": "0f3be547-f68a-42ac-a31d-0240d5aa833e",
   "metadata": {},
   "outputs": [
    {
     "data": {
      "image/png": "[encoded data removed]",
      "text/plain": [
       "<Figure size 432x288 with 1 Axes>"
      ]
     },
     "metadata": {
      "needs_background": "light"
     },
     "output_type": "display_data"
    }
   ],
   "source": [
    "plt.hist(agg_feature[idx_min].numpy(), bins=50, color='b')\n",
    "plt.yscale('log')"
   ]
  },
  {
   "cell_type": "code",
   "execution_count": 63,
   "id": "07c3742e-cee3-4b5d-88d1-23fdd15089d6",
   "metadata": {},
   "outputs": [
    {
     "data": {
      "image/png": "[encoded data removed]",
      "text/plain": [
       "<Figure size 432x288 with 1 Axes>"
      ]
     },
     "metadata": {
      "needs_background": "light"
     },
     "output_type": "display_data"
    }
   ],
   "source": [
    "plt.hist(agg_feature[idx_avg].numpy(), bins=50, color='b')\n",
    "plt.yscale('log')"
   ]
  },
  {
   "cell_type": "code",
   "execution_count": 64,
   "id": "fba9736f-7a37-4a53-8863-c11d29244a2f",
   "metadata": {},
   "outputs": [
    {
     "data": {
      "image/png": "[encoded data removed]",
      "text/plain": [
       "<Figure size 432x288 with 1 Axes>"
      ]
     },
     "metadata": {
      "needs_background": "light"
     },
     "output_type": "display_data"
    }
   ],
   "source": [
    "plt.hist(agg_feature[idx_max].numpy(), bins=50, color='b')\n",
    "plt.yscale('log')"
   ]
  },
  {
   "cell_type": "code",
   "execution_count": null,
   "id": "89916f59-9d77-4e3f-b606-85ece1d1457a",
   "metadata": {},
   "outputs": [],
   "source": []
  }
 ],
 "metadata": {
  "interpreter": {
   "hash": "7458f77538137c35bba89d1375239a4516088872f6c38e927d3f066a4e9dec29"
  },
  "kernelspec": {
   "display_name": "Python 3",
   "language": "python",
   "name": "python3"
  },
  "language_info": {
   "codemirror_mode": {
    "name": "ipython",
    "version": 3
   },
   "file_extension": ".py",
   "mimetype": "text/x-python",
   "name": "python",
   "nbconvert_exporter": "python",
   "pygments_lexer": "ipython3",
   "version": "3.9.7"
  }
 },
 "nbformat": 4,
 "nbformat_minor": 5
}
