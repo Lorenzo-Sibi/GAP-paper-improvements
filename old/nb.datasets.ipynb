{
 "cells": [
  {
   "cell_type": "code",
   "execution_count": 1,
   "id": "43eaf7cd-ed04-46b8-a1ab-987a59c8815b",
   "metadata": {
    "tags": []
   },
   "outputs": [],
   "source": [
    "%reload_ext autoreload\n",
    "%autoreload 2"
   ]
  },
  {
   "cell_type": "code",
   "execution_count": 2,
   "id": "4c7653ac-7161-4e1f-bf90-642e8b31f2d6",
   "metadata": {},
   "outputs": [
    {
     "data": {
      "text/html": [
       "<pre style=\"white-space:pre;overflow-x:auto;line-height:normal;font-family:Menlo,'DejaVu Sans Mono',consolas,'Courier New',monospace\"></pre>\n"
      ],
      "text/plain": []
     },
     "metadata": {},
     "output_type": "display_data"
    }
   ],
   "source": [
    "import torch\n",
    "import pandas as pd\n",
    "from data import Dataset\n",
    "from console import console\n",
    "console.width = 150"
   ]
  },
  {
   "cell_type": "code",
   "execution_count": 3,
   "id": "310e8823-6b49-4725-824d-37732c34df99",
   "metadata": {},
   "outputs": [
    {
     "data": {
      "text/html": [
       "<pre style=\"white-space:pre;overflow-x:auto;line-height:normal;font-family:Menlo,'DejaVu Sans Mono',consolas,'Courier New',monospace\"><span style=\"color: #7fbfbf; text-decoration-color: #7fbfbf\">[17:35:50] </span><span style=\"color: #000080; text-decoration-color: #000080\">INFO    </span> <span style=\"font-style: italic\">                                                    dataset stats                                                     </span> <a href=\"file:///remote/idiap.svm/user.active/sajadmanesh/Github/GAP/data.py\"><span style=\"color: #7f7f7f; text-decoration-color: #7f7f7f\">data.py</span></a><span style=\"color: #7f7f7f; text-decoration-color: #7f7f7f\">:</span><a href=\"file:///remote/idiap.svm/user.active/sajadmanesh/Github/GAP/data.py#230\"><span style=\"color: #7f7f7f; text-decoration-color: #7f7f7f\">230</span></a>\n",
       "                     ────────────────────────────────────────────────────────────────────────────────────────────────────────────────────             \n",
       "                     <span style=\"font-weight: bold\"> name     </span> <span style=\"font-weight: bold\"> nodes  </span> <span style=\"font-weight: bold\"> edges     </span> <span style=\"font-weight: bold\"> features </span> <span style=\"font-weight: bold\"> classes </span> <span style=\"font-weight: bold\"> mean degree </span> <span style=\"font-weight: bold\"> median degree </span> <span style=\"font-weight: bold\"> train/val/test   </span> <span style=\"font-weight: bold\"> baseline (%) </span>             \n",
       "                                                                                                        <span style=\"font-weight: bold\"> (%)              </span>                            \n",
       "                     ────────────────────────────────────────────────────────────────────────────────────────────────────────────────────             \n",
       "                      facebook   <span style=\"color: #008080; text-decoration-color: #008080; font-weight: bold\">26</span>,<span style=\"color: #008080; text-decoration-color: #008080; font-weight: bold\">406</span>   <span style=\"color: #008080; text-decoration-color: #008080; font-weight: bold\">2</span>,<span style=\"color: #008080; text-decoration-color: #008080; font-weight: bold\">117</span>,<span style=\"color: #008080; text-decoration-color: #008080; font-weight: bold\">924</span>   <span style=\"color: #008080; text-decoration-color: #008080; font-weight: bold\">501</span>        <span style=\"color: #008080; text-decoration-color: #008080; font-weight: bold\">6</span>         <span style=\"color: #008080; text-decoration-color: #008080; font-weight: bold\">80.21</span>         <span style=\"color: #008080; text-decoration-color: #008080; font-weight: bold\">62.0</span>            <span style=\"color: #008080; text-decoration-color: #008080; font-weight: bold\">75.00</span> <span style=\"color: #800080; text-decoration-color: #800080\">/</span> <span style=\"color: #008080; text-decoration-color: #008080; font-weight: bold\">10.01</span> <span style=\"color: #800080; text-decoration-color: #800080\">/</span>    <span style=\"color: #008080; text-decoration-color: #008080; font-weight: bold\">23.95</span>                     \n",
       "                                                                                                         <span style=\"color: #008080; text-decoration-color: #008080; font-weight: bold\">14.99</span>                                        \n",
       "                     ────────────────────────────────────────────────────────────────────────────────────────────────────────────────────             \n",
       "</pre>\n"
      ],
      "text/plain": [
       "\u001b[2;36m[17:35:50]\u001b[0m\u001b[2;36m \u001b[0m\u001b[34mINFO    \u001b[0m \u001b[3m                                                    dataset stats                                                     \u001b[0m \u001b]8;id=468812;file:///remote/idiap.svm/user.active/sajadmanesh/Github/GAP/data.py\u001b\\\u001b[2mdata.py\u001b[0m\u001b]8;;\u001b\\\u001b[2m:\u001b[0m\u001b]8;id=27028;file:///remote/idiap.svm/user.active/sajadmanesh/Github/GAP/data.py#230\u001b\\\u001b[2m230\u001b[0m\u001b]8;;\u001b\\\n",
       "                     ────────────────────────────────────────────────────────────────────────────────────────────────────────────────────             \n",
       "                     \u001b[1m \u001b[0m\u001b[1mname    \u001b[0m\u001b[1m \u001b[0m \u001b[1m \u001b[0m\u001b[1mnodes \u001b[0m\u001b[1m \u001b[0m \u001b[1m \u001b[0m\u001b[1medges    \u001b[0m\u001b[1m \u001b[0m \u001b[1m \u001b[0m\u001b[1mfeatures\u001b[0m\u001b[1m \u001b[0m \u001b[1m \u001b[0m\u001b[1mclasses\u001b[0m\u001b[1m \u001b[0m \u001b[1m \u001b[0m\u001b[1mmean degree\u001b[0m\u001b[1m \u001b[0m \u001b[1m \u001b[0m\u001b[1mmedian degree\u001b[0m\u001b[1m \u001b[0m \u001b[1m \u001b[0m\u001b[1mtrain/val/test  \u001b[0m\u001b[1m \u001b[0m \u001b[1m \u001b[0m\u001b[1mbaseline (%)\u001b[0m\u001b[1m \u001b[0m             \n",
       "                                                                                                        \u001b[1m \u001b[0m\u001b[1m(%)             \u001b[0m\u001b[1m \u001b[0m                            \n",
       "                     ────────────────────────────────────────────────────────────────────────────────────────────────────────────────────             \n",
       "                      facebook   \u001b[1;36m26\u001b[0m,\u001b[1;36m406\u001b[0m   \u001b[1;36m2\u001b[0m,\u001b[1;36m117\u001b[0m,\u001b[1;36m924\u001b[0m   \u001b[1;36m501\u001b[0m        \u001b[1;36m6\u001b[0m         \u001b[1;36m80.21\u001b[0m         \u001b[1;36m62.0\u001b[0m            \u001b[1;36m75.00\u001b[0m \u001b[35m/\u001b[0m \u001b[1;36m10.01\u001b[0m \u001b[35m/\u001b[0m    \u001b[1;36m23.95\u001b[0m                     \n",
       "                                                                                                         \u001b[1;36m14.99\u001b[0m                                        \n",
       "                     ────────────────────────────────────────────────────────────────────────────────────────────────────────────────────             \n"
      ]
     },
     "metadata": {},
     "output_type": "display_data"
    },
    {
     "data": {
      "text/html": [
       "<pre style=\"white-space:pre;overflow-x:auto;line-height:normal;font-family:Menlo,'DejaVu Sans Mono',consolas,'Courier New',monospace\">\n",
       "</pre>\n"
      ],
      "text/plain": [
       "\n"
      ]
     },
     "metadata": {},
     "output_type": "display_data"
    }
   ],
   "source": [
    "data = Dataset('facebook').load(True)"
   ]
  },
  {
   "cell_type": "code",
   "execution_count": 20,
   "id": "fb07de84-8e59-4299-8f69-7dff530a0650",
   "metadata": {},
   "outputs": [
    {
     "data": {
      "text/plain": [
       "tensor(124.)"
      ]
     },
     "execution_count": 20,
     "metadata": {},
     "output_type": "execute_result"
    }
   ],
   "source": [
    "(data.adj_t.sum(dim=0) + data.adj_t.sum(dim=1)).median()"
   ]
  },
  {
   "cell_type": "code",
   "execution_count": 21,
   "id": "e05eacf3-0efb-44cf-ac23-8ed239940383",
   "metadata": {},
   "outputs": [
    {
     "data": {
      "text/html": [
       "<pre style=\"white-space:pre;overflow-x:auto;line-height:normal;font-family:Menlo,'DejaVu Sans Mono',consolas,'Courier New',monospace\"><span style=\"color: #7fbfbf; text-decoration-color: #7fbfbf\">[17:50:41] </span><span style=\"color: #000080; text-decoration-color: #000080\">INFO    </span> <span style=\"font-style: italic\">                                                    dataset stats                                                     </span> <a href=\"file:///remote/idiap.svm/user.active/sajadmanesh/Github/GAP/data.py\"><span style=\"color: #7f7f7f; text-decoration-color: #7f7f7f\">data.py</span></a><span style=\"color: #7f7f7f; text-decoration-color: #7f7f7f\">:</span><a href=\"file:///remote/idiap.svm/user.active/sajadmanesh/Github/GAP/data.py#230\"><span style=\"color: #7f7f7f; text-decoration-color: #7f7f7f\">230</span></a>\n",
       "                     ────────────────────────────────────────────────────────────────────────────────────────────────────────────────────             \n",
       "                     <span style=\"font-weight: bold\"> name   </span> <span style=\"font-weight: bold\"> nodes   </span> <span style=\"font-weight: bold\"> edges      </span> <span style=\"font-weight: bold\"> features </span> <span style=\"font-weight: bold\"> classes </span> <span style=\"font-weight: bold\"> mean degree </span> <span style=\"font-weight: bold\"> median degree </span> <span style=\"font-weight: bold\"> train/val/test   </span> <span style=\"font-weight: bold\"> baseline (%) </span>             \n",
       "                                                                                                        <span style=\"font-weight: bold\"> (%)              </span>                            \n",
       "                     ────────────────────────────────────────────────────────────────────────────────────────────────────────────────────             \n",
       "                      reddit   <span style=\"color: #008080; text-decoration-color: #008080; font-weight: bold\">116</span>,<span style=\"color: #008080; text-decoration-color: #008080; font-weight: bold\">713</span>   <span style=\"color: #008080; text-decoration-color: #008080; font-weight: bold\">46</span>,<span style=\"color: #008080; text-decoration-color: #008080; font-weight: bold\">233</span>,<span style=\"color: #008080; text-decoration-color: #008080; font-weight: bold\">380</span>   <span style=\"color: #008080; text-decoration-color: #008080; font-weight: bold\">602</span>        <span style=\"color: #008080; text-decoration-color: #008080; font-weight: bold\">8</span>         <span style=\"color: #008080; text-decoration-color: #008080; font-weight: bold\">396.13</span>        <span style=\"color: #008080; text-decoration-color: #008080; font-weight: bold\">209.0</span>           <span style=\"color: #008080; text-decoration-color: #008080; font-weight: bold\">74.98</span> <span style=\"color: #800080; text-decoration-color: #800080\">/</span> <span style=\"color: #008080; text-decoration-color: #008080; font-weight: bold\">10.04</span> <span style=\"color: #800080; text-decoration-color: #800080\">/</span>    <span style=\"color: #008080; text-decoration-color: #008080; font-weight: bold\">24.28</span>                     \n",
       "                                                                                                         <span style=\"color: #008080; text-decoration-color: #008080; font-weight: bold\">14.98</span>                                        \n",
       "                     ────────────────────────────────────────────────────────────────────────────────────────────────────────────────────             \n",
       "</pre>\n"
      ],
      "text/plain": [
       "\u001b[2;36m[17:50:41]\u001b[0m\u001b[2;36m \u001b[0m\u001b[34mINFO    \u001b[0m \u001b[3m                                                    dataset stats                                                     \u001b[0m \u001b]8;id=949916;file:///remote/idiap.svm/user.active/sajadmanesh/Github/GAP/data.py\u001b\\\u001b[2mdata.py\u001b[0m\u001b]8;;\u001b\\\u001b[2m:\u001b[0m\u001b]8;id=422008;file:///remote/idiap.svm/user.active/sajadmanesh/Github/GAP/data.py#230\u001b\\\u001b[2m230\u001b[0m\u001b]8;;\u001b\\\n",
       "                     ────────────────────────────────────────────────────────────────────────────────────────────────────────────────────             \n",
       "                     \u001b[1m \u001b[0m\u001b[1mname  \u001b[0m\u001b[1m \u001b[0m \u001b[1m \u001b[0m\u001b[1mnodes  \u001b[0m\u001b[1m \u001b[0m \u001b[1m \u001b[0m\u001b[1medges     \u001b[0m\u001b[1m \u001b[0m \u001b[1m \u001b[0m\u001b[1mfeatures\u001b[0m\u001b[1m \u001b[0m \u001b[1m \u001b[0m\u001b[1mclasses\u001b[0m\u001b[1m \u001b[0m \u001b[1m \u001b[0m\u001b[1mmean degree\u001b[0m\u001b[1m \u001b[0m \u001b[1m \u001b[0m\u001b[1mmedian degree\u001b[0m\u001b[1m \u001b[0m \u001b[1m \u001b[0m\u001b[1mtrain/val/test  \u001b[0m\u001b[1m \u001b[0m \u001b[1m \u001b[0m\u001b[1mbaseline (%)\u001b[0m\u001b[1m \u001b[0m             \n",
       "                                                                                                        \u001b[1m \u001b[0m\u001b[1m(%)             \u001b[0m\u001b[1m \u001b[0m                            \n",
       "                     ────────────────────────────────────────────────────────────────────────────────────────────────────────────────────             \n",
       "                      reddit   \u001b[1;36m116\u001b[0m,\u001b[1;36m713\u001b[0m   \u001b[1;36m46\u001b[0m,\u001b[1;36m233\u001b[0m,\u001b[1;36m380\u001b[0m   \u001b[1;36m602\u001b[0m        \u001b[1;36m8\u001b[0m         \u001b[1;36m396.13\u001b[0m        \u001b[1;36m209.0\u001b[0m           \u001b[1;36m74.98\u001b[0m \u001b[35m/\u001b[0m \u001b[1;36m10.04\u001b[0m \u001b[35m/\u001b[0m    \u001b[1;36m24.28\u001b[0m                     \n",
       "                                                                                                         \u001b[1;36m14.98\u001b[0m                                        \n",
       "                     ────────────────────────────────────────────────────────────────────────────────────────────────────────────────────             \n"
      ]
     },
     "metadata": {},
     "output_type": "display_data"
    },
    {
     "data": {
      "text/html": [
       "<pre style=\"white-space:pre;overflow-x:auto;line-height:normal;font-family:Menlo,'DejaVu Sans Mono',consolas,'Courier New',monospace\">\n",
       "</pre>\n"
      ],
      "text/plain": [
       "\n"
      ]
     },
     "metadata": {},
     "output_type": "display_data"
    }
   ],
   "source": [
    "data = Dataset('reddit').load(True)"
   ]
  },
  {
   "cell_type": "code",
   "execution_count": 22,
   "id": "1e58c6a9-de07-4794-b857-7723d8962019",
   "metadata": {},
   "outputs": [
    {
     "data": {
      "text/plain": [
       "tensor(418.)"
      ]
     },
     "execution_count": 22,
     "metadata": {},
     "output_type": "execute_result"
    }
   ],
   "source": [
    "(data.adj_t.sum(dim=0) + data.adj_t.sum(dim=1)).median()"
   ]
  },
  {
   "cell_type": "code",
   "execution_count": 23,
   "id": "86f927a3-ac97-4a41-85d5-365187026e4d",
   "metadata": {},
   "outputs": [
    {
     "data": {
      "text/html": [
       "<pre style=\"white-space:pre;overflow-x:auto;line-height:normal;font-family:Menlo,'DejaVu Sans Mono',consolas,'Courier New',monospace\"><span style=\"color: #7fbfbf; text-decoration-color: #7fbfbf\">[17:51:58] </span><span style=\"color: #000080; text-decoration-color: #000080\">INFO    </span> <span style=\"font-style: italic\">                                                    dataset stats                                                     </span> <a href=\"file:///remote/idiap.svm/user.active/sajadmanesh/Github/GAP/data.py\"><span style=\"color: #7f7f7f; text-decoration-color: #7f7f7f\">data.py</span></a><span style=\"color: #7f7f7f; text-decoration-color: #7f7f7f\">:</span><a href=\"file:///remote/idiap.svm/user.active/sajadmanesh/Github/GAP/data.py#230\"><span style=\"color: #7f7f7f; text-decoration-color: #7f7f7f\">230</span></a>\n",
       "                     ────────────────────────────────────────────────────────────────────────────────────────────────────────────────────             \n",
       "                     <span style=\"font-weight: bold\"> name   </span> <span style=\"font-weight: bold\"> nodes     </span> <span style=\"font-weight: bold\"> edges      </span> <span style=\"font-weight: bold\"> features </span> <span style=\"font-weight: bold\"> classes </span> <span style=\"font-weight: bold\"> mean degree </span> <span style=\"font-weight: bold\"> median degree </span> <span style=\"font-weight: bold\"> train/val/test </span> <span style=\"font-weight: bold\"> baseline (%) </span>             \n",
       "                                                                                                          <span style=\"font-weight: bold\"> (%)            </span>                            \n",
       "                     ────────────────────────────────────────────────────────────────────────────────────────────────────────────────────             \n",
       "                      amazon   <span style=\"color: #008080; text-decoration-color: #008080; font-weight: bold\">1</span>,<span style=\"color: #008080; text-decoration-color: #008080; font-weight: bold\">790</span>,<span style=\"color: #008080; text-decoration-color: #008080; font-weight: bold\">731</span>   <span style=\"color: #008080; text-decoration-color: #008080; font-weight: bold\">80</span>,<span style=\"color: #008080; text-decoration-color: #008080; font-weight: bold\">966</span>,<span style=\"color: #008080; text-decoration-color: #008080; font-weight: bold\">832</span>   <span style=\"color: #008080; text-decoration-color: #008080; font-weight: bold\">100</span>        <span style=\"color: #008080; text-decoration-color: #008080; font-weight: bold\">10</span>        <span style=\"color: #008080; text-decoration-color: #008080; font-weight: bold\">45.21</span>         <span style=\"color: #008080; text-decoration-color: #008080; font-weight: bold\">22.0</span>            <span style=\"color: #008080; text-decoration-color: #008080; font-weight: bold\">75.00</span> <span style=\"color: #800080; text-decoration-color: #800080\">/</span> <span style=\"color: #008080; text-decoration-color: #008080; font-weight: bold\">9.99</span> <span style=\"color: #800080; text-decoration-color: #800080\">/</span>   <span style=\"color: #008080; text-decoration-color: #008080; font-weight: bold\">36.27</span>                     \n",
       "                                                                                                           <span style=\"color: #008080; text-decoration-color: #008080; font-weight: bold\">15.02</span>                                      \n",
       "                     ────────────────────────────────────────────────────────────────────────────────────────────────────────────────────             \n",
       "</pre>\n"
      ],
      "text/plain": [
       "\u001b[2;36m[17:51:58]\u001b[0m\u001b[2;36m \u001b[0m\u001b[34mINFO    \u001b[0m \u001b[3m                                                    dataset stats                                                     \u001b[0m \u001b]8;id=587753;file:///remote/idiap.svm/user.active/sajadmanesh/Github/GAP/data.py\u001b\\\u001b[2mdata.py\u001b[0m\u001b]8;;\u001b\\\u001b[2m:\u001b[0m\u001b]8;id=776075;file:///remote/idiap.svm/user.active/sajadmanesh/Github/GAP/data.py#230\u001b\\\u001b[2m230\u001b[0m\u001b]8;;\u001b\\\n",
       "                     ────────────────────────────────────────────────────────────────────────────────────────────────────────────────────             \n",
       "                     \u001b[1m \u001b[0m\u001b[1mname  \u001b[0m\u001b[1m \u001b[0m \u001b[1m \u001b[0m\u001b[1mnodes    \u001b[0m\u001b[1m \u001b[0m \u001b[1m \u001b[0m\u001b[1medges     \u001b[0m\u001b[1m \u001b[0m \u001b[1m \u001b[0m\u001b[1mfeatures\u001b[0m\u001b[1m \u001b[0m \u001b[1m \u001b[0m\u001b[1mclasses\u001b[0m\u001b[1m \u001b[0m \u001b[1m \u001b[0m\u001b[1mmean degree\u001b[0m\u001b[1m \u001b[0m \u001b[1m \u001b[0m\u001b[1mmedian degree\u001b[0m\u001b[1m \u001b[0m \u001b[1m \u001b[0m\u001b[1mtrain/val/test\u001b[0m\u001b[1m \u001b[0m \u001b[1m \u001b[0m\u001b[1mbaseline (%)\u001b[0m\u001b[1m \u001b[0m             \n",
       "                                                                                                          \u001b[1m \u001b[0m\u001b[1m(%)           \u001b[0m\u001b[1m \u001b[0m                            \n",
       "                     ────────────────────────────────────────────────────────────────────────────────────────────────────────────────────             \n",
       "                      amazon   \u001b[1;36m1\u001b[0m,\u001b[1;36m790\u001b[0m,\u001b[1;36m731\u001b[0m   \u001b[1;36m80\u001b[0m,\u001b[1;36m966\u001b[0m,\u001b[1;36m832\u001b[0m   \u001b[1;36m100\u001b[0m        \u001b[1;36m10\u001b[0m        \u001b[1;36m45.21\u001b[0m         \u001b[1;36m22.0\u001b[0m            \u001b[1;36m75.00\u001b[0m \u001b[35m/\u001b[0m \u001b[1;36m9.99\u001b[0m \u001b[35m/\u001b[0m   \u001b[1;36m36.27\u001b[0m                     \n",
       "                                                                                                           \u001b[1;36m15.02\u001b[0m                                      \n",
       "                     ────────────────────────────────────────────────────────────────────────────────────────────────────────────────────             \n"
      ]
     },
     "metadata": {},
     "output_type": "display_data"
    },
    {
     "data": {
      "text/html": [
       "<pre style=\"white-space:pre;overflow-x:auto;line-height:normal;font-family:Menlo,'DejaVu Sans Mono',consolas,'Courier New',monospace\">\n",
       "</pre>\n"
      ],
      "text/plain": [
       "\n"
      ]
     },
     "metadata": {},
     "output_type": "display_data"
    }
   ],
   "source": [
    "data = Dataset('amazon').load(True)"
   ]
  },
  {
   "cell_type": "code",
   "execution_count": 24,
   "id": "118493e0-a35e-408a-9897-a185fd222274",
   "metadata": {},
   "outputs": [
    {
     "data": {
      "text/plain": [
       "tensor(44.)"
      ]
     },
     "execution_count": 24,
     "metadata": {},
     "output_type": "execute_result"
    }
   ],
   "source": [
    "(data.adj_t.sum(dim=0) + data.adj_t.sum(dim=1)).median()"
   ]
  },
  {
   "cell_type": "code",
   "execution_count": null,
   "id": "f2432afa-e2cd-48ba-8d7f-85ea174034ae",
   "metadata": {},
   "outputs": [],
   "source": []
  }
 ],
 "metadata": {
  "kernelspec": {
   "display_name": "Python 3",
   "language": "python",
   "name": "python3"
  },
  "language_info": {
   "codemirror_mode": {
    "name": "ipython",
    "version": 3
   },
   "file_extension": ".py",
   "mimetype": "text/x-python",
   "name": "python",
   "nbconvert_exporter": "python",
   "pygments_lexer": "ipython3",
   "version": "3.9.9"
  }
 },
 "nbformat": 4,
 "nbformat_minor": 5
}
