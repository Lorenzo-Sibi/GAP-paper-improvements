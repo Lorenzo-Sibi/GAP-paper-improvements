{
 "cells": [
  {
   "cell_type": "code",
   "execution_count": 1,
   "id": "0c9dc75f-b052-4245-a75e-fcdfd4fe7e17",
   "metadata": {},
   "outputs": [],
   "source": [
    "%reload_ext autoreload\n",
    "%autoreload 2"
   ]
  },
  {
   "cell_type": "code",
   "execution_count": 31,
   "id": "29bafc94-e681-4d41-b9d1-e108547ef891",
   "metadata": {},
   "outputs": [],
   "source": [
    "import torch\n",
    "import torch.nn as nn\n",
    "import pandas as pd\n",
    "import numpy as np\n",
    "from torch_geometric.nn import GraphSAGE, MessagePassing\n",
    "from opacus import PrivacyEngine\n",
    "from torch.utils.data import TensorDataset, DataLoader\n",
    "from privacy import NoisySGD\n",
    "from data import PoissonDataLoader, NeighborSampler, Dataset\n",
    "from console import console\n",
    "from torch_geometric.datasets import RandomPartitionGraphDataset\n",
    "from torch_geometric.utils import sort_edge_index\n",
    "from torch_sparse import SparseTensor\n",
    "from torch_geometric.data import LightningNodeData\n",
    "from methods import GraphSAGEModel\n",
    "from scipy.stats import hypergeom\n",
    "from methods import GAP\n",
    "from scipy.io import loadmat\n",
    "from ogb.nodeproppred import PygNodePropPredDataset\n",
    "\n",
    "console.width = 150"
   ]
  },
  {
   "cell_type": "code",
   "execution_count": 4,
   "id": "cf3b3dc1-4905-4028-9d09-a038935a456c",
   "metadata": {},
   "outputs": [
    {
     "data": {
      "text/plain": [
       "{'__header__': b'MATLAB 5.0 MAT-file, Platform: MACI64, Created on: Fri Feb 11 20:03:31 2011',\n",
       " '__version__': '1.0',\n",
       " '__globals__': [],\n",
       " 'A': <30809x30809 sparse matrix of type '<class 'numpy.float64'>'\n",
       " \twith 2528856 stored elements in Compressed Sparse Column format>,\n",
       " 'local_info': array([[   1,    2,    0, ...,   37, 2008, 7008],\n",
       "        [   1,    1,  157, ...,    0, 2006, 5784],\n",
       "        [   1,    2,   78, ...,  110, 2006, 6265],\n",
       "        ...,\n",
       "        [   1,    2,  209, ...,  198, 2009, 5456],\n",
       "        [   1,    2,   78, ...,    0, 2006, 5638],\n",
       "        [   1,    1,    0, ...,   70, 2009, 6159]], dtype=uint16)}"
      ]
     },
     "execution_count": 4,
     "metadata": {},
     "output_type": "execute_result"
    }
   ],
   "source": [
    "mat = loadmat('datasets/facebook/UIllinois20/raw/UIllinois20.mat')\n",
    "mat"
   ]
  },
  {
   "cell_type": "code",
   "execution_count": 5,
   "id": "473614c4-0e7f-4c69-8395-69d5ab202043",
   "metadata": {},
   "outputs": [
    {
     "data": {
      "text/html": [
       "<div>\n",
       "<style scoped>\n",
       "    .dataframe tbody tr th:only-of-type {\n",
       "        vertical-align: middle;\n",
       "    }\n",
       "\n",
       "    .dataframe tbody tr th {\n",
       "        vertical-align: top;\n",
       "    }\n",
       "\n",
       "    .dataframe thead th {\n",
       "        text-align: right;\n",
       "    }\n",
       "</style>\n",
       "<table border=\"1\" class=\"dataframe\">\n",
       "  <thead>\n",
       "    <tr style=\"text-align: right;\">\n",
       "      <th></th>\n",
       "      <th>status</th>\n",
       "      <th>gender</th>\n",
       "      <th>major</th>\n",
       "      <th>minor</th>\n",
       "      <th>housing</th>\n",
       "      <th>year</th>\n",
       "    </tr>\n",
       "  </thead>\n",
       "  <tbody>\n",
       "    <tr>\n",
       "      <th>0</th>\n",
       "      <td>1</td>\n",
       "      <td>2</td>\n",
       "      <td>0</td>\n",
       "      <td>0</td>\n",
       "      <td>37</td>\n",
       "      <td>2008</td>\n",
       "    </tr>\n",
       "    <tr>\n",
       "      <th>1</th>\n",
       "      <td>1</td>\n",
       "      <td>1</td>\n",
       "      <td>157</td>\n",
       "      <td>0</td>\n",
       "      <td>0</td>\n",
       "      <td>2006</td>\n",
       "    </tr>\n",
       "    <tr>\n",
       "      <th>2</th>\n",
       "      <td>1</td>\n",
       "      <td>2</td>\n",
       "      <td>78</td>\n",
       "      <td>0</td>\n",
       "      <td>110</td>\n",
       "      <td>2006</td>\n",
       "    </tr>\n",
       "    <tr>\n",
       "      <th>3</th>\n",
       "      <td>1</td>\n",
       "      <td>0</td>\n",
       "      <td>75</td>\n",
       "      <td>0</td>\n",
       "      <td>0</td>\n",
       "      <td>2007</td>\n",
       "    </tr>\n",
       "    <tr>\n",
       "      <th>4</th>\n",
       "      <td>1</td>\n",
       "      <td>2</td>\n",
       "      <td>77</td>\n",
       "      <td>67</td>\n",
       "      <td>55</td>\n",
       "      <td>2007</td>\n",
       "    </tr>\n",
       "    <tr>\n",
       "      <th>...</th>\n",
       "      <td>...</td>\n",
       "      <td>...</td>\n",
       "      <td>...</td>\n",
       "      <td>...</td>\n",
       "      <td>...</td>\n",
       "      <td>...</td>\n",
       "    </tr>\n",
       "    <tr>\n",
       "      <th>30804</th>\n",
       "      <td>1</td>\n",
       "      <td>1</td>\n",
       "      <td>45</td>\n",
       "      <td>157</td>\n",
       "      <td>197</td>\n",
       "      <td>2008</td>\n",
       "    </tr>\n",
       "    <tr>\n",
       "      <th>30805</th>\n",
       "      <td>1</td>\n",
       "      <td>2</td>\n",
       "      <td>78</td>\n",
       "      <td>131</td>\n",
       "      <td>0</td>\n",
       "      <td>2006</td>\n",
       "    </tr>\n",
       "    <tr>\n",
       "      <th>30806</th>\n",
       "      <td>1</td>\n",
       "      <td>2</td>\n",
       "      <td>209</td>\n",
       "      <td>0</td>\n",
       "      <td>198</td>\n",
       "      <td>2009</td>\n",
       "    </tr>\n",
       "    <tr>\n",
       "      <th>30807</th>\n",
       "      <td>1</td>\n",
       "      <td>2</td>\n",
       "      <td>78</td>\n",
       "      <td>193</td>\n",
       "      <td>0</td>\n",
       "      <td>2006</td>\n",
       "    </tr>\n",
       "    <tr>\n",
       "      <th>30808</th>\n",
       "      <td>1</td>\n",
       "      <td>1</td>\n",
       "      <td>0</td>\n",
       "      <td>0</td>\n",
       "      <td>70</td>\n",
       "      <td>2009</td>\n",
       "    </tr>\n",
       "  </tbody>\n",
       "</table>\n",
       "<p>30809 rows × 6 columns</p>\n",
       "</div>"
      ],
      "text/plain": [
       "       status  gender  major  minor  housing  year\n",
       "0           1       2      0      0       37  2008\n",
       "1           1       1    157      0        0  2006\n",
       "2           1       2     78      0      110  2006\n",
       "3           1       0     75      0        0  2007\n",
       "4           1       2     77     67       55  2007\n",
       "...       ...     ...    ...    ...      ...   ...\n",
       "30804       1       1     45    157      197  2008\n",
       "30805       1       2     78    131        0  2006\n",
       "30806       1       2    209      0      198  2009\n",
       "30807       1       2     78    193        0  2006\n",
       "30808       1       1      0      0       70  2009\n",
       "\n",
       "[30809 rows x 6 columns]"
      ]
     },
     "execution_count": 5,
     "metadata": {},
     "output_type": "execute_result"
    }
   ],
   "source": [
    "features = pd.DataFrame(mat['local_info'][:, :-1], columns=['status', 'gender', 'major', 'minor', 'housing', 'year'])\n",
    "features"
   ]
  },
  {
   "cell_type": "code",
   "execution_count": 6,
   "id": "2bb92d30-4ac7-4d79-859a-ad4e366551cc",
   "metadata": {},
   "outputs": [
    {
     "data": {
      "text/html": [
       "<div>\n",
       "<style scoped>\n",
       "    .dataframe tbody tr th:only-of-type {\n",
       "        vertical-align: middle;\n",
       "    }\n",
       "\n",
       "    .dataframe tbody tr th {\n",
       "        vertical-align: top;\n",
       "    }\n",
       "\n",
       "    .dataframe thead th {\n",
       "        text-align: right;\n",
       "    }\n",
       "</style>\n",
       "<table border=\"1\" class=\"dataframe\">\n",
       "  <thead>\n",
       "    <tr style=\"text-align: right;\">\n",
       "      <th></th>\n",
       "      <th>status</th>\n",
       "      <th>gender</th>\n",
       "      <th>major</th>\n",
       "      <th>minor</th>\n",
       "      <th>housing</th>\n",
       "    </tr>\n",
       "    <tr>\n",
       "      <th>year</th>\n",
       "      <th></th>\n",
       "      <th></th>\n",
       "      <th></th>\n",
       "      <th></th>\n",
       "      <th></th>\n",
       "    </tr>\n",
       "  </thead>\n",
       "  <tbody>\n",
       "    <tr>\n",
       "      <th>0</th>\n",
       "      <td>4006</td>\n",
       "      <td>4006</td>\n",
       "      <td>4006</td>\n",
       "      <td>4006</td>\n",
       "      <td>4006</td>\n",
       "    </tr>\n",
       "    <tr>\n",
       "      <th>1900</th>\n",
       "      <td>2</td>\n",
       "      <td>2</td>\n",
       "      <td>2</td>\n",
       "      <td>2</td>\n",
       "      <td>2</td>\n",
       "    </tr>\n",
       "    <tr>\n",
       "      <th>1903</th>\n",
       "      <td>1</td>\n",
       "      <td>1</td>\n",
       "      <td>1</td>\n",
       "      <td>1</td>\n",
       "      <td>1</td>\n",
       "    </tr>\n",
       "    <tr>\n",
       "      <th>1949</th>\n",
       "      <td>1</td>\n",
       "      <td>1</td>\n",
       "      <td>1</td>\n",
       "      <td>1</td>\n",
       "      <td>1</td>\n",
       "    </tr>\n",
       "    <tr>\n",
       "      <th>1968</th>\n",
       "      <td>1</td>\n",
       "      <td>1</td>\n",
       "      <td>1</td>\n",
       "      <td>1</td>\n",
       "      <td>1</td>\n",
       "    </tr>\n",
       "    <tr>\n",
       "      <th>1969</th>\n",
       "      <td>2</td>\n",
       "      <td>2</td>\n",
       "      <td>2</td>\n",
       "      <td>2</td>\n",
       "      <td>2</td>\n",
       "    </tr>\n",
       "    <tr>\n",
       "      <th>1970</th>\n",
       "      <td>1</td>\n",
       "      <td>1</td>\n",
       "      <td>1</td>\n",
       "      <td>1</td>\n",
       "      <td>1</td>\n",
       "    </tr>\n",
       "    <tr>\n",
       "      <th>1971</th>\n",
       "      <td>1</td>\n",
       "      <td>1</td>\n",
       "      <td>1</td>\n",
       "      <td>1</td>\n",
       "      <td>1</td>\n",
       "    </tr>\n",
       "    <tr>\n",
       "      <th>1972</th>\n",
       "      <td>2</td>\n",
       "      <td>2</td>\n",
       "      <td>2</td>\n",
       "      <td>2</td>\n",
       "      <td>2</td>\n",
       "    </tr>\n",
       "    <tr>\n",
       "      <th>1974</th>\n",
       "      <td>1</td>\n",
       "      <td>1</td>\n",
       "      <td>1</td>\n",
       "      <td>1</td>\n",
       "      <td>1</td>\n",
       "    </tr>\n",
       "    <tr>\n",
       "      <th>1977</th>\n",
       "      <td>1</td>\n",
       "      <td>1</td>\n",
       "      <td>1</td>\n",
       "      <td>1</td>\n",
       "      <td>1</td>\n",
       "    </tr>\n",
       "    <tr>\n",
       "      <th>1978</th>\n",
       "      <td>1</td>\n",
       "      <td>1</td>\n",
       "      <td>1</td>\n",
       "      <td>1</td>\n",
       "      <td>1</td>\n",
       "    </tr>\n",
       "    <tr>\n",
       "      <th>1980</th>\n",
       "      <td>2</td>\n",
       "      <td>2</td>\n",
       "      <td>2</td>\n",
       "      <td>2</td>\n",
       "      <td>2</td>\n",
       "    </tr>\n",
       "    <tr>\n",
       "      <th>1982</th>\n",
       "      <td>1</td>\n",
       "      <td>1</td>\n",
       "      <td>1</td>\n",
       "      <td>1</td>\n",
       "      <td>1</td>\n",
       "    </tr>\n",
       "    <tr>\n",
       "      <th>1987</th>\n",
       "      <td>2</td>\n",
       "      <td>2</td>\n",
       "      <td>2</td>\n",
       "      <td>2</td>\n",
       "      <td>2</td>\n",
       "    </tr>\n",
       "    <tr>\n",
       "      <th>1988</th>\n",
       "      <td>1</td>\n",
       "      <td>1</td>\n",
       "      <td>1</td>\n",
       "      <td>1</td>\n",
       "      <td>1</td>\n",
       "    </tr>\n",
       "    <tr>\n",
       "      <th>1989</th>\n",
       "      <td>1</td>\n",
       "      <td>1</td>\n",
       "      <td>1</td>\n",
       "      <td>1</td>\n",
       "      <td>1</td>\n",
       "    </tr>\n",
       "    <tr>\n",
       "      <th>1991</th>\n",
       "      <td>1</td>\n",
       "      <td>1</td>\n",
       "      <td>1</td>\n",
       "      <td>1</td>\n",
       "      <td>1</td>\n",
       "    </tr>\n",
       "    <tr>\n",
       "      <th>1995</th>\n",
       "      <td>1</td>\n",
       "      <td>1</td>\n",
       "      <td>1</td>\n",
       "      <td>1</td>\n",
       "      <td>1</td>\n",
       "    </tr>\n",
       "    <tr>\n",
       "      <th>1996</th>\n",
       "      <td>2</td>\n",
       "      <td>2</td>\n",
       "      <td>2</td>\n",
       "      <td>2</td>\n",
       "      <td>2</td>\n",
       "    </tr>\n",
       "    <tr>\n",
       "      <th>1997</th>\n",
       "      <td>4</td>\n",
       "      <td>4</td>\n",
       "      <td>4</td>\n",
       "      <td>4</td>\n",
       "      <td>4</td>\n",
       "    </tr>\n",
       "    <tr>\n",
       "      <th>1998</th>\n",
       "      <td>4</td>\n",
       "      <td>4</td>\n",
       "      <td>4</td>\n",
       "      <td>4</td>\n",
       "      <td>4</td>\n",
       "    </tr>\n",
       "    <tr>\n",
       "      <th>1999</th>\n",
       "      <td>5</td>\n",
       "      <td>5</td>\n",
       "      <td>5</td>\n",
       "      <td>5</td>\n",
       "      <td>5</td>\n",
       "    </tr>\n",
       "    <tr>\n",
       "      <th>2000</th>\n",
       "      <td>9</td>\n",
       "      <td>9</td>\n",
       "      <td>9</td>\n",
       "      <td>9</td>\n",
       "      <td>9</td>\n",
       "    </tr>\n",
       "    <tr>\n",
       "      <th>2001</th>\n",
       "      <td>16</td>\n",
       "      <td>16</td>\n",
       "      <td>16</td>\n",
       "      <td>16</td>\n",
       "      <td>16</td>\n",
       "    </tr>\n",
       "    <tr>\n",
       "      <th>2002</th>\n",
       "      <td>56</td>\n",
       "      <td>56</td>\n",
       "      <td>56</td>\n",
       "      <td>56</td>\n",
       "      <td>56</td>\n",
       "    </tr>\n",
       "    <tr>\n",
       "      <th>2003</th>\n",
       "      <td>164</td>\n",
       "      <td>164</td>\n",
       "      <td>164</td>\n",
       "      <td>164</td>\n",
       "      <td>164</td>\n",
       "    </tr>\n",
       "    <tr>\n",
       "      <th>2004</th>\n",
       "      <td>1055</td>\n",
       "      <td>1055</td>\n",
       "      <td>1055</td>\n",
       "      <td>1055</td>\n",
       "      <td>1055</td>\n",
       "    </tr>\n",
       "    <tr>\n",
       "      <th>2005</th>\n",
       "      <td>3799</td>\n",
       "      <td>3799</td>\n",
       "      <td>3799</td>\n",
       "      <td>3799</td>\n",
       "      <td>3799</td>\n",
       "    </tr>\n",
       "    <tr>\n",
       "      <th>2006</th>\n",
       "      <td>4622</td>\n",
       "      <td>4622</td>\n",
       "      <td>4622</td>\n",
       "      <td>4622</td>\n",
       "      <td>4622</td>\n",
       "    </tr>\n",
       "    <tr>\n",
       "      <th>2007</th>\n",
       "      <td>5313</td>\n",
       "      <td>5313</td>\n",
       "      <td>5313</td>\n",
       "      <td>5313</td>\n",
       "      <td>5313</td>\n",
       "    </tr>\n",
       "    <tr>\n",
       "      <th>2008</th>\n",
       "      <td>6022</td>\n",
       "      <td>6022</td>\n",
       "      <td>6022</td>\n",
       "      <td>6022</td>\n",
       "      <td>6022</td>\n",
       "    </tr>\n",
       "    <tr>\n",
       "      <th>2009</th>\n",
       "      <td>5628</td>\n",
       "      <td>5628</td>\n",
       "      <td>5628</td>\n",
       "      <td>5628</td>\n",
       "      <td>5628</td>\n",
       "    </tr>\n",
       "    <tr>\n",
       "      <th>2010</th>\n",
       "      <td>80</td>\n",
       "      <td>80</td>\n",
       "      <td>80</td>\n",
       "      <td>80</td>\n",
       "      <td>80</td>\n",
       "    </tr>\n",
       "    <tr>\n",
       "      <th>3000</th>\n",
       "      <td>1</td>\n",
       "      <td>1</td>\n",
       "      <td>1</td>\n",
       "      <td>1</td>\n",
       "      <td>1</td>\n",
       "    </tr>\n",
       "  </tbody>\n",
       "</table>\n",
       "</div>"
      ],
      "text/plain": [
       "      status  gender  major  minor  housing\n",
       "year                                       \n",
       "0       4006    4006   4006   4006     4006\n",
       "1900       2       2      2      2        2\n",
       "1903       1       1      1      1        1\n",
       "1949       1       1      1      1        1\n",
       "1968       1       1      1      1        1\n",
       "1969       2       2      2      2        2\n",
       "1970       1       1      1      1        1\n",
       "1971       1       1      1      1        1\n",
       "1972       2       2      2      2        2\n",
       "1974       1       1      1      1        1\n",
       "1977       1       1      1      1        1\n",
       "1978       1       1      1      1        1\n",
       "1980       2       2      2      2        2\n",
       "1982       1       1      1      1        1\n",
       "1987       2       2      2      2        2\n",
       "1988       1       1      1      1        1\n",
       "1989       1       1      1      1        1\n",
       "1991       1       1      1      1        1\n",
       "1995       1       1      1      1        1\n",
       "1996       2       2      2      2        2\n",
       "1997       4       4      4      4        4\n",
       "1998       4       4      4      4        4\n",
       "1999       5       5      5      5        5\n",
       "2000       9       9      9      9        9\n",
       "2001      16      16     16     16       16\n",
       "2002      56      56     56     56       56\n",
       "2003     164     164    164    164      164\n",
       "2004    1055    1055   1055   1055     1055\n",
       "2005    3799    3799   3799   3799     3799\n",
       "2006    4622    4622   4622   4622     4622\n",
       "2007    5313    5313   5313   5313     5313\n",
       "2008    6022    6022   6022   6022     6022\n",
       "2009    5628    5628   5628   5628     5628\n",
       "2010      80      80     80     80       80\n",
       "3000       1       1      1      1        1"
      ]
     },
     "execution_count": 6,
     "metadata": {},
     "output_type": "execute_result"
    }
   ],
   "source": [
    "features.groupby('year').count()"
   ]
  },
  {
   "cell_type": "code",
   "execution_count": 7,
   "id": "57fcf81a-ab78-4321-9c57-0ee505847378",
   "metadata": {},
   "outputs": [
    {
     "name": "stderr",
     "output_type": "stream",
     "text": [
      "Processing...\n",
      "Done!\n"
     ]
    },
    {
     "data": {
      "text/html": [
       "<pre style=\"white-space:pre;overflow-x:auto;line-height:normal;font-family:Menlo,'DejaVu Sans Mono',consolas,'Courier New',monospace\"><span style=\"color: #7fbfbf; text-decoration-color: #7fbfbf\">[18:02:35] </span><span style=\"color: #000080; text-decoration-color: #000080\">INFO    </span> <span style=\"font-style: italic\">                                                    dataset stats                                                     </span> <a href=\"file:///remote/idiap.svm/user.active/sajadmanesh/Github/GAP/data.py\"><span style=\"color: #7f7f7f; text-decoration-color: #7f7f7f\">data.py</span></a><span style=\"color: #7f7f7f; text-decoration-color: #7f7f7f\">:</span><a href=\"file:///remote/idiap.svm/user.active/sajadmanesh/Github/GAP/data.py#230\"><span style=\"color: #7f7f7f; text-decoration-color: #7f7f7f\">230</span></a>\n",
       "                     ────────────────────────────────────────────────────────────────────────────────────────────────────────────────────             \n",
       "                     <span style=\"font-weight: bold\"> name     </span> <span style=\"font-weight: bold\"> nodes  </span> <span style=\"font-weight: bold\"> edges     </span> <span style=\"font-weight: bold\"> features </span> <span style=\"font-weight: bold\"> classes </span> <span style=\"font-weight: bold\"> mean degree </span> <span style=\"font-weight: bold\"> median degree </span> <span style=\"font-weight: bold\"> train/val/test   </span> <span style=\"font-weight: bold\"> baseline (%) </span>             \n",
       "                                                                                                        <span style=\"font-weight: bold\"> (%)              </span>                            \n",
       "                     ────────────────────────────────────────────────────────────────────────────────────────────────────────────────────             \n",
       "                      facebook   <span style=\"color: #008080; text-decoration-color: #008080; font-weight: bold\">26</span>,<span style=\"color: #008080; text-decoration-color: #008080; font-weight: bold\">406</span>   <span style=\"color: #008080; text-decoration-color: #008080; font-weight: bold\">2</span>,<span style=\"color: #008080; text-decoration-color: #008080; font-weight: bold\">117</span>,<span style=\"color: #008080; text-decoration-color: #008080; font-weight: bold\">924</span>   <span style=\"color: #008080; text-decoration-color: #008080; font-weight: bold\">501</span>        <span style=\"color: #008080; text-decoration-color: #008080; font-weight: bold\">6</span>         <span style=\"color: #008080; text-decoration-color: #008080; font-weight: bold\">80.21</span>         <span style=\"color: #008080; text-decoration-color: #008080; font-weight: bold\">62.0</span>            <span style=\"color: #008080; text-decoration-color: #008080; font-weight: bold\">75.01</span> <span style=\"color: #800080; text-decoration-color: #800080\">/</span> <span style=\"color: #008080; text-decoration-color: #008080; font-weight: bold\">9.98</span> <span style=\"color: #800080; text-decoration-color: #800080\">/</span>     <span style=\"color: #008080; text-decoration-color: #008080; font-weight: bold\">22.59</span>                     \n",
       "                                                                                                         <span style=\"color: #008080; text-decoration-color: #008080; font-weight: bold\">15.00</span>                                        \n",
       "                     ────────────────────────────────────────────────────────────────────────────────────────────────────────────────────             \n",
       "</pre>\n"
      ],
      "text/plain": [
       "\u001b[2;36m[18:02:35]\u001b[0m\u001b[2;36m \u001b[0m\u001b[34mINFO    \u001b[0m \u001b[3m                                                    dataset stats                                                     \u001b[0m \u001b]8;id=453779;file:///remote/idiap.svm/user.active/sajadmanesh/Github/GAP/data.py\u001b\\\u001b[2mdata.py\u001b[0m\u001b]8;;\u001b\\\u001b[2m:\u001b[0m\u001b]8;id=745161;file:///remote/idiap.svm/user.active/sajadmanesh/Github/GAP/data.py#230\u001b\\\u001b[2m230\u001b[0m\u001b]8;;\u001b\\\n",
       "                     ────────────────────────────────────────────────────────────────────────────────────────────────────────────────────             \n",
       "                     \u001b[1m \u001b[0m\u001b[1mname    \u001b[0m\u001b[1m \u001b[0m \u001b[1m \u001b[0m\u001b[1mnodes \u001b[0m\u001b[1m \u001b[0m \u001b[1m \u001b[0m\u001b[1medges    \u001b[0m\u001b[1m \u001b[0m \u001b[1m \u001b[0m\u001b[1mfeatures\u001b[0m\u001b[1m \u001b[0m \u001b[1m \u001b[0m\u001b[1mclasses\u001b[0m\u001b[1m \u001b[0m \u001b[1m \u001b[0m\u001b[1mmean degree\u001b[0m\u001b[1m \u001b[0m \u001b[1m \u001b[0m\u001b[1mmedian degree\u001b[0m\u001b[1m \u001b[0m \u001b[1m \u001b[0m\u001b[1mtrain/val/test  \u001b[0m\u001b[1m \u001b[0m \u001b[1m \u001b[0m\u001b[1mbaseline (%)\u001b[0m\u001b[1m \u001b[0m             \n",
       "                                                                                                        \u001b[1m \u001b[0m\u001b[1m(%)             \u001b[0m\u001b[1m \u001b[0m                            \n",
       "                     ────────────────────────────────────────────────────────────────────────────────────────────────────────────────────             \n",
       "                      facebook   \u001b[1;36m26\u001b[0m,\u001b[1;36m406\u001b[0m   \u001b[1;36m2\u001b[0m,\u001b[1;36m117\u001b[0m,\u001b[1;36m924\u001b[0m   \u001b[1;36m501\u001b[0m        \u001b[1;36m6\u001b[0m         \u001b[1;36m80.21\u001b[0m         \u001b[1;36m62.0\u001b[0m            \u001b[1;36m75.01\u001b[0m \u001b[35m/\u001b[0m \u001b[1;36m9.98\u001b[0m \u001b[35m/\u001b[0m     \u001b[1;36m22.59\u001b[0m                     \n",
       "                                                                                                         \u001b[1;36m15.00\u001b[0m                                        \n",
       "                     ────────────────────────────────────────────────────────────────────────────────────────────────────────────────────             \n"
      ]
     },
     "metadata": {},
     "output_type": "display_data"
    },
    {
     "data": {
      "text/html": [
       "<pre style=\"white-space:pre;overflow-x:auto;line-height:normal;font-family:Menlo,'DejaVu Sans Mono',consolas,'Courier New',monospace\">\n",
       "</pre>\n"
      ],
      "text/plain": [
       "\n"
      ]
     },
     "metadata": {},
     "output_type": "display_data"
    }
   ],
   "source": [
    "data = Dataset('facebook').load(True)"
   ]
  },
  {
   "cell_type": "code",
   "execution_count": 8,
   "id": "1fa4a0e0-a996-4dcd-8b0f-5b4cc391d855",
   "metadata": {},
   "outputs": [
    {
     "data": {
      "text/plain": [
       "(tensor([0, 1, 2, 3, 4, 5]), tensor([ 798, 2878, 3400, 4015, 4549, 4168]))"
      ]
     },
     "execution_count": 8,
     "metadata": {},
     "output_type": "execute_result"
    }
   ],
   "source": [
    "data.y[data.train_mask].unique(return_counts=True)[1].min()"
   ]
  },
  {
   "cell_type": "code",
   "execution_count": 9,
   "id": "8a4f12ee-6548-4640-86b6-113678d90491",
   "metadata": {},
   "outputs": [
    {
     "data": {
      "text/html": [
       "<pre style=\"white-space:pre;overflow-x:auto;line-height:normal;font-family:Menlo,'DejaVu Sans Mono',consolas,'Courier New',monospace\"><span style=\"color: #7fbfbf; text-decoration-color: #7fbfbf\">[18:05:41] </span><span style=\"color: #000080; text-decoration-color: #000080\">INFO    </span> <span style=\"font-style: italic\">                                                    dataset stats                                                     </span> <a href=\"file:///remote/idiap.svm/user.active/sajadmanesh/Github/GAP/data.py\"><span style=\"color: #7f7f7f; text-decoration-color: #7f7f7f\">data.py</span></a><span style=\"color: #7f7f7f; text-decoration-color: #7f7f7f\">:</span><a href=\"file:///remote/idiap.svm/user.active/sajadmanesh/Github/GAP/data.py#230\"><span style=\"color: #7f7f7f; text-decoration-color: #7f7f7f\">230</span></a>\n",
       "                     ────────────────────────────────────────────────────────────────────────────────────────────────────────────────────             \n",
       "                     <span style=\"font-weight: bold\"> name   </span> <span style=\"font-weight: bold\"> nodes   </span> <span style=\"font-weight: bold\"> edges       </span> <span style=\"font-weight: bold\"> features </span> <span style=\"font-weight: bold\"> classes </span> <span style=\"font-weight: bold\"> mean degree </span> <span style=\"font-weight: bold\"> median degree </span> <span style=\"font-weight: bold\"> train/val/test  </span> <span style=\"font-weight: bold\"> baseline (%) </span>             \n",
       "                                                                                                         <span style=\"font-weight: bold\"> (%)             </span>                            \n",
       "                     ────────────────────────────────────────────────────────────────────────────────────────────────────────────────────             \n",
       "                      reddit   <span style=\"color: #008080; text-decoration-color: #008080; font-weight: bold\">232</span>,<span style=\"color: #008080; text-decoration-color: #008080; font-weight: bold\">965</span>   <span style=\"color: #008080; text-decoration-color: #008080; font-weight: bold\">114</span>,<span style=\"color: #008080; text-decoration-color: #008080; font-weight: bold\">615</span>,<span style=\"color: #008080; text-decoration-color: #008080; font-weight: bold\">892</span>   <span style=\"color: #008080; text-decoration-color: #008080; font-weight: bold\">602</span>        <span style=\"color: #008080; text-decoration-color: #008080; font-weight: bold\">41</span>        <span style=\"color: #008080; text-decoration-color: #008080; font-weight: bold\">491.99</span>        <span style=\"color: #008080; text-decoration-color: #008080; font-weight: bold\">230.0</span>           <span style=\"color: #008080; text-decoration-color: #008080; font-weight: bold\">65.86</span> <span style=\"color: #800080; text-decoration-color: #800080\">/</span> <span style=\"color: #008080; text-decoration-color: #008080; font-weight: bold\">10.23</span> <span style=\"color: #800080; text-decoration-color: #800080\">/</span>   <span style=\"color: #008080; text-decoration-color: #008080; font-weight: bold\">14.83</span>                     \n",
       "                                                                                                          <span style=\"color: #008080; text-decoration-color: #008080; font-weight: bold\">23.91</span>                                       \n",
       "                     ────────────────────────────────────────────────────────────────────────────────────────────────────────────────────             \n",
       "</pre>\n"
      ],
      "text/plain": [
       "\u001b[2;36m[18:05:41]\u001b[0m\u001b[2;36m \u001b[0m\u001b[34mINFO    \u001b[0m \u001b[3m                                                    dataset stats                                                     \u001b[0m \u001b]8;id=793755;file:///remote/idiap.svm/user.active/sajadmanesh/Github/GAP/data.py\u001b\\\u001b[2mdata.py\u001b[0m\u001b]8;;\u001b\\\u001b[2m:\u001b[0m\u001b]8;id=984881;file:///remote/idiap.svm/user.active/sajadmanesh/Github/GAP/data.py#230\u001b\\\u001b[2m230\u001b[0m\u001b]8;;\u001b\\\n",
       "                     ────────────────────────────────────────────────────────────────────────────────────────────────────────────────────             \n",
       "                     \u001b[1m \u001b[0m\u001b[1mname  \u001b[0m\u001b[1m \u001b[0m \u001b[1m \u001b[0m\u001b[1mnodes  \u001b[0m\u001b[1m \u001b[0m \u001b[1m \u001b[0m\u001b[1medges      \u001b[0m\u001b[1m \u001b[0m \u001b[1m \u001b[0m\u001b[1mfeatures\u001b[0m\u001b[1m \u001b[0m \u001b[1m \u001b[0m\u001b[1mclasses\u001b[0m\u001b[1m \u001b[0m \u001b[1m \u001b[0m\u001b[1mmean degree\u001b[0m\u001b[1m \u001b[0m \u001b[1m \u001b[0m\u001b[1mmedian degree\u001b[0m\u001b[1m \u001b[0m \u001b[1m \u001b[0m\u001b[1mtrain/val/test \u001b[0m\u001b[1m \u001b[0m \u001b[1m \u001b[0m\u001b[1mbaseline (%)\u001b[0m\u001b[1m \u001b[0m             \n",
       "                                                                                                         \u001b[1m \u001b[0m\u001b[1m(%)            \u001b[0m\u001b[1m \u001b[0m                            \n",
       "                     ────────────────────────────────────────────────────────────────────────────────────────────────────────────────────             \n",
       "                      reddit   \u001b[1;36m232\u001b[0m,\u001b[1;36m965\u001b[0m   \u001b[1;36m114\u001b[0m,\u001b[1;36m615\u001b[0m,\u001b[1;36m892\u001b[0m   \u001b[1;36m602\u001b[0m        \u001b[1;36m41\u001b[0m        \u001b[1;36m491.99\u001b[0m        \u001b[1;36m230.0\u001b[0m           \u001b[1;36m65.86\u001b[0m \u001b[35m/\u001b[0m \u001b[1;36m10.23\u001b[0m \u001b[35m/\u001b[0m   \u001b[1;36m14.83\u001b[0m                     \n",
       "                                                                                                          \u001b[1;36m23.91\u001b[0m                                       \n",
       "                     ────────────────────────────────────────────────────────────────────────────────────────────────────────────────────             \n"
      ]
     },
     "metadata": {},
     "output_type": "display_data"
    },
    {
     "data": {
      "text/html": [
       "<pre style=\"white-space:pre;overflow-x:auto;line-height:normal;font-family:Menlo,'DejaVu Sans Mono',consolas,'Courier New',monospace\">\n",
       "</pre>\n"
      ],
      "text/plain": [
       "\n"
      ]
     },
     "metadata": {},
     "output_type": "display_data"
    }
   ],
   "source": [
    "data = Dataset('reddit').load(True)"
   ]
  },
  {
   "cell_type": "code",
   "execution_count": 14,
   "id": "25fea034-d50e-4f5d-8338-ac7da6f9e6f0",
   "metadata": {},
   "outputs": [
    {
     "data": {
      "text/plain": [
       "tensor([  236,   721,  1065,  1096,  1131,  1152,  1455,  1481,  1567,  1647,\n",
       "         1875,  1881,  2009,  2107,  2226,  2276,  2360,  2384,  2795,  2803,\n",
       "         2826,  2841,  2855,  2884,  3135,  3224,  3273,  3336,  3371,  3376,\n",
       "         3851,  4056,  5311,  7072,  7280,  7679,  8129,  8457,  9103, 10589,\n",
       "        16516])"
      ]
     },
     "execution_count": 14,
     "metadata": {},
     "output_type": "execute_result"
    }
   ],
   "source": [
    "data.y[data.train_mask].unique(return_counts=True)[1].sort().values"
   ]
  },
  {
   "cell_type": "code",
   "execution_count": 48,
   "id": "32204a23-2865-48c6-b167-d2f4082f85b1",
   "metadata": {},
   "outputs": [
    {
     "data": {
      "text/html": [
       "<pre style=\"white-space:pre;overflow-x:auto;line-height:normal;font-family:Menlo,'DejaVu Sans Mono',consolas,'Courier New',monospace\"><span style=\"color: #7fbfbf; text-decoration-color: #7fbfbf\">[09:19:04] </span><span style=\"color: #000080; text-decoration-color: #000080\">INFO    </span> <span style=\"font-style: italic\">                                                    dataset stats                                                     </span> <a href=\"file:///remote/idiap.svm/user.active/sajadmanesh/Github/GAP/data.py\"><span style=\"color: #7f7f7f; text-decoration-color: #7f7f7f\">data.py</span></a><span style=\"color: #7f7f7f; text-decoration-color: #7f7f7f\">:</span><a href=\"file:///remote/idiap.svm/user.active/sajadmanesh/Github/GAP/data.py#230\"><span style=\"color: #7f7f7f; text-decoration-color: #7f7f7f\">230</span></a>\n",
       "                     ────────────────────────────────────────────────────────────────────────────────────────────────────────────────────             \n",
       "                     <span style=\"font-weight: bold\"> name   </span> <span style=\"font-weight: bold\"> nodes     </span> <span style=\"font-weight: bold\"> edges       </span> <span style=\"font-weight: bold\"> features </span> <span style=\"font-weight: bold\"> classes </span> <span style=\"font-weight: bold\"> mean degree </span> <span style=\"font-weight: bold\"> median degree </span> <span style=\"font-weight: bold\"> train/val/te… </span> <span style=\"font-weight: bold\"> baseline (%) </span>             \n",
       "                                                                                                           <span style=\"font-weight: bold\"> (%)           </span>                            \n",
       "                     ────────────────────────────────────────────────────────────────────────────────────────────────────────────────────             \n",
       "                      amazon   <span style=\"color: #008080; text-decoration-color: #008080; font-weight: bold\">2</span>,<span style=\"color: #008080; text-decoration-color: #008080; font-weight: bold\">400</span>,<span style=\"color: #008080; text-decoration-color: #008080; font-weight: bold\">608</span>   <span style=\"color: #008080; text-decoration-color: #008080; font-weight: bold\">123</span>,<span style=\"color: #008080; text-decoration-color: #008080; font-weight: bold\">718</span>,<span style=\"color: #008080; text-decoration-color: #008080; font-weight: bold\">024</span>   <span style=\"color: #008080; text-decoration-color: #008080; font-weight: bold\">100</span>        <span style=\"color: #008080; text-decoration-color: #008080; font-weight: bold\">47</span>        <span style=\"color: #008080; text-decoration-color: #008080; font-weight: bold\">51.54</span>         <span style=\"color: #008080; text-decoration-color: #008080; font-weight: bold\">27.0</span>            <span style=\"color: #008080; text-decoration-color: #008080; font-weight: bold\">8.19</span> <span style=\"color: #800080; text-decoration-color: #800080\">/</span> <span style=\"color: #008080; text-decoration-color: #008080; font-weight: bold\">1.64</span> <span style=\"color: #800080; text-decoration-color: #800080\">/</span>   <span style=\"color: #008080; text-decoration-color: #008080; font-weight: bold\">26.59</span>                     \n",
       "                                                                                                            <span style=\"color: #008080; text-decoration-color: #008080; font-weight: bold\">90.18</span>                                     \n",
       "                     ────────────────────────────────────────────────────────────────────────────────────────────────────────────────────             \n",
       "</pre>\n"
      ],
      "text/plain": [
       "\u001b[2;36m[09:19:04]\u001b[0m\u001b[2;36m \u001b[0m\u001b[34mINFO    \u001b[0m \u001b[3m                                                    dataset stats                                                     \u001b[0m \u001b]8;id=294235;file:///remote/idiap.svm/user.active/sajadmanesh/Github/GAP/data.py\u001b\\\u001b[2mdata.py\u001b[0m\u001b]8;;\u001b\\\u001b[2m:\u001b[0m\u001b]8;id=904657;file:///remote/idiap.svm/user.active/sajadmanesh/Github/GAP/data.py#230\u001b\\\u001b[2m230\u001b[0m\u001b]8;;\u001b\\\n",
       "                     ────────────────────────────────────────────────────────────────────────────────────────────────────────────────────             \n",
       "                     \u001b[1m \u001b[0m\u001b[1mname  \u001b[0m\u001b[1m \u001b[0m \u001b[1m \u001b[0m\u001b[1mnodes    \u001b[0m\u001b[1m \u001b[0m \u001b[1m \u001b[0m\u001b[1medges      \u001b[0m\u001b[1m \u001b[0m \u001b[1m \u001b[0m\u001b[1mfeatures\u001b[0m\u001b[1m \u001b[0m \u001b[1m \u001b[0m\u001b[1mclasses\u001b[0m\u001b[1m \u001b[0m \u001b[1m \u001b[0m\u001b[1mmean degree\u001b[0m\u001b[1m \u001b[0m \u001b[1m \u001b[0m\u001b[1mmedian degree\u001b[0m\u001b[1m \u001b[0m \u001b[1m \u001b[0m\u001b[1mtrain/val/te…\u001b[0m\u001b[1m \u001b[0m \u001b[1m \u001b[0m\u001b[1mbaseline (%)\u001b[0m\u001b[1m \u001b[0m             \n",
       "                                                                                                           \u001b[1m \u001b[0m\u001b[1m(%)          \u001b[0m\u001b[1m \u001b[0m                            \n",
       "                     ────────────────────────────────────────────────────────────────────────────────────────────────────────────────────             \n",
       "                      amazon   \u001b[1;36m2\u001b[0m,\u001b[1;36m400\u001b[0m,\u001b[1;36m608\u001b[0m   \u001b[1;36m123\u001b[0m,\u001b[1;36m718\u001b[0m,\u001b[1;36m024\u001b[0m   \u001b[1;36m100\u001b[0m        \u001b[1;36m47\u001b[0m        \u001b[1;36m51.54\u001b[0m         \u001b[1;36m27.0\u001b[0m            \u001b[1;36m8.19\u001b[0m \u001b[35m/\u001b[0m \u001b[1;36m1.64\u001b[0m \u001b[35m/\u001b[0m   \u001b[1;36m26.59\u001b[0m                     \n",
       "                                                                                                            \u001b[1;36m90.18\u001b[0m                                     \n",
       "                     ────────────────────────────────────────────────────────────────────────────────────────────────────────────────────             \n"
      ]
     },
     "metadata": {},
     "output_type": "display_data"
    },
    {
     "data": {
      "text/html": [
       "<pre style=\"white-space:pre;overflow-x:auto;line-height:normal;font-family:Menlo,'DejaVu Sans Mono',consolas,'Courier New',monospace\">\n",
       "</pre>\n"
      ],
      "text/plain": [
       "\n"
      ]
     },
     "metadata": {},
     "output_type": "display_data"
    }
   ],
   "source": [
    "data = Dataset('amazon').load(True)"
   ]
  },
  {
   "cell_type": "code",
   "execution_count": 55,
   "id": "e9ec68a4-8114-4b63-a79b-0a79ba0ee3ce",
   "metadata": {},
   "outputs": [
    {
     "data": {
      "text/plain": [
       "tensor([     1,      2,      9,     29,     37,     44,     60,     91,    154,\n",
       "           245,    253,    417,    512,    512,    546,    555,    620,    866,\n",
       "          1331,   1497,   1868,   3004,   3052,   3606,  17240,  22416,  26858,\n",
       "         29553,  32314,  40469,  41921,  43801,  48299,  51654,  66514,  80320,\n",
       "         82681,  99995, 108651, 110488, 112338, 113308, 131470, 145426, 157591,\n",
       "        169628, 648362])"
      ]
     },
     "execution_count": 55,
     "metadata": {},
     "output_type": "execute_result"
    }
   ],
   "source": [
    "data.y.unique(return_counts=True)[1].sort().values"
   ]
  },
  {
   "cell_type": "code",
   "execution_count": 54,
   "id": "3846d8b8-ef9d-49e6-8d22-183e12d0ff07",
   "metadata": {},
   "outputs": [
    {
     "data": {
      "text/plain": [
       "tensor([    1,     1,     1,     1,     2,     2,     3,     3,     3,     4,\n",
       "            8,    25,    33,    64,    75,    84,    93,   152,   200,   287,\n",
       "          461,   526,   662,  1237,  1313,  2047,  2515,  2755,  3340,  3932,\n",
       "         4245,  4311,  6266, 10756, 10926, 10941, 11332, 12290, 13151, 15305,\n",
       "        16600, 60618])"
      ]
     },
     "execution_count": 54,
     "metadata": {},
     "output_type": "execute_result"
    }
   ],
   "source": [
    "data.y[data.train_mask].unique(return_counts=True)[1].sort().values"
   ]
  },
  {
   "cell_type": "code",
   "execution_count": null,
   "id": "fe674255-d85a-4682-ad93-d036029a4a94",
   "metadata": {},
   "outputs": [],
   "source": []
  }
 ],
 "metadata": {
  "kernelspec": {
   "display_name": "Python 3",
   "language": "python",
   "name": "python3"
  },
  "language_info": {
   "codemirror_mode": {
    "name": "ipython",
    "version": 3
   },
   "file_extension": ".py",
   "mimetype": "text/x-python",
   "name": "python",
   "nbconvert_exporter": "python",
   "pygments_lexer": "ipython3",
   "version": "3.9.9"
  }
 },
 "nbformat": 4,
 "nbformat_minor": 5
}
