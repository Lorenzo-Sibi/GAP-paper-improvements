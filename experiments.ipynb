{
 "cells": [
  {
   "cell_type": "code",
   "execution_count": 1,
   "id": "ac38016c-7f0f-4c45-8c06-588afdcb8fe6",
   "metadata": {
    "tags": []
   },
   "outputs": [],
   "source": [
    "%reload_ext autoreload\n",
    "%autoreload 2\n",
    "\n",
    "from core.experiments import RunFactory"
   ]
  },
  {
   "cell_type": "code",
   "execution_count": 2,
   "id": "b7f97320-5fd2-436a-8ef1-6d85957407e9",
   "metadata": {},
   "outputs": [],
   "source": [
    "wandb_user = 'sisaman'\n",
    "wandb_project = 'GAP-TEST'\n",
    "\n",
    "run_factory = RunFactory(entity=wandb_user, project=wandb_project, check_existing=True)"
   ]
  },
  {
   "cell_type": "markdown",
   "id": "09fd51b9-3ff7-42ff-88f8-9fbf7bc5f675",
   "metadata": {},
   "source": [
    "# Experiments"
   ]
  },
  {
   "cell_type": "markdown",
   "id": "d2692e1d",
   "metadata": {},
   "source": [
    "### Hyper-parameters"
   ]
  },
  {
   "cell_type": "code",
   "execution_count": 3,
   "id": "d0c10b08",
   "metadata": {},
   "outputs": [],
   "source": [
    "datasets = ['facebook', 'reddit', 'amazon']\n",
    "batch_size = {'facebook': 256, 'reddit': 2048, 'amazon': 4096}\n",
    "\n",
    "gap_methods  = ['gap-inf', 'gap-edp', 'gap-ndp']\n",
    "sage_methods = ['sage-inf', 'sage-edp', 'sage-ndp']\n",
    "mlp_methods  = ['mlp', 'mlp-dp']\n",
    "inf_methods  = ['gap-inf', 'sage-inf']\n",
    "edp_methods  = ['gap-edp', 'sage-edp', 'mlp']\n",
    "ndp_methods  = ['gap-ndp', 'sage-ndp', 'mlp-dp']\n",
    "all_methods  = inf_methods + edp_methods + ndp_methods\n",
    "\n",
    "hparams = {dataset: {method: {} for method in all_methods} for dataset in datasets}\n",
    "\n",
    "for dataset in datasets:\n",
    "    # For GAP methods\n",
    "    for method in gap_methods:\n",
    "        hparams[dataset][method]['encoder_layers'] = 2\n",
    "        hparams[dataset][method]['base_layers'] = 1\n",
    "        hparams[dataset][method]['head_layers'] = 1\n",
    "        hparams[dataset][method]['combine'] = 'cat'\n",
    "        hparams[dataset][method]['hops'] = [1, 2, 3, 4, 5]\n",
    "\n",
    "    # For SAGE methods\n",
    "    for method in sage_methods:\n",
    "        hparams[dataset][method]['base_layers'] = 2\n",
    "        hparams[dataset][method]['head_layers'] = 1\n",
    "        if method != 'sage-ndp':\n",
    "            hparams[dataset][method]['mp_layers'] = [1, 2, 3, 4, 5]\n",
    "        \n",
    "    # For MLP methods\n",
    "    for method in mlp_methods:\n",
    "        hparams[dataset][method]['num_layers'] = 3\n",
    "\n",
    "    # For GAP-NDP and SAGE-NDP\n",
    "    for method in ['gap-ndp', 'sage-ndp']:\n",
    "        hparams[dataset][method]['max_degree'] = [100, 200, 300, 400]\n",
    "\n",
    "    # For all methods\n",
    "    for method in all_methods:\n",
    "        hparams[dataset][method]['hidden_dim'] = 16\n",
    "        hparams[dataset][method]['activation'] = 'selu'\n",
    "        hparams[dataset][method]['optimizer'] = 'adam'\n",
    "        hparams[dataset][method]['learning_rate'] = 0.01\n",
    "        hparams[dataset][method]['repeats'] = 10\n",
    "        \n",
    "        if method in ndp_methods:\n",
    "            hparams[dataset][method]['max_grad_norm'] = 1\n",
    "            hparams[dataset][method]['epochs'] = 10\n",
    "            hparams[dataset][method]['batch_size'] = batch_size[dataset]\n",
    "        else:\n",
    "            hparams[dataset][method]['batch_norm'] = True\n",
    "            hparams[dataset][method]['epochs'] = 100\n",
    "            hparams[dataset][method]['batch_size'] = 'full'\n",
    "\n",
    "\n",
    "    # For GAP methods\n",
    "    for method in gap_methods:\n",
    "        hparams[dataset][method]['encoder_epochs'] = hparams[dataset][method]['epochs']\n"
   ]
  },
  {
   "cell_type": "markdown",
   "id": "e23fe7a4",
   "metadata": {},
   "source": [
    "### Accuracy/Privacy Trade-off"
   ]
  },
  {
   "cell_type": "code",
   "execution_count": 4,
   "id": "52368aff",
   "metadata": {},
   "outputs": [
    {
     "name": "stdout",
     "output_type": "stream",
     "text": [
      "618\n"
     ]
    }
   ],
   "source": [
    "for dataset in datasets:\n",
    "    for method in all_methods:\n",
    "        params = {}\n",
    "        if method in ndp_methods:\n",
    "            params['epsilon'] = [1, 2, 4, 8, 16]\n",
    "        elif method in ['gap-edp', 'sage-edp']:\n",
    "            params['epsilon'] = [0.1, 0.2, 0.5, 1, 2, 4, 8]\n",
    "            \n",
    "        run_factory.register(\n",
    "            method, \n",
    "            dataset=dataset,\n",
    "            **params, \n",
    "            **hparams[dataset][method]\n",
    "        )\n",
    "\n",
    "print(len(run_factory.get_all_runs()))"
   ]
  },
  {
   "cell_type": "markdown",
   "id": "e23fe7a4",
   "metadata": {},
   "source": [
    "### Effect of Encoder Module"
   ]
  },
  {
   "cell_type": "code",
   "execution_count": 5,
   "id": "1e16d97a",
   "metadata": {},
   "outputs": [
    {
     "name": "stdout",
     "output_type": "stream",
     "text": [
      "993\n"
     ]
    }
   ],
   "source": [
    "for dataset in datasets:\n",
    "    for method in ['gap-edp', 'gap-ndp']:\n",
    "        hp = {**hparams[dataset][method]}\n",
    "        default_encoder_layers = hp.pop('encoder_layers')\n",
    "        epsilon = [0.5, 1, 2, 4, 8] if method == 'gap-edp' else [1, 2, 4, 8, 16]\n",
    "        run_factory.register(\n",
    "            method,\n",
    "            dataset=dataset,\n",
    "            encoder_layers=[0, default_encoder_layers],\n",
    "            epsilon=epsilon,\n",
    "            **hp\n",
    "        )\n",
    "\n",
    "print(len(run_factory.get_all_runs()))"
   ]
  },
  {
   "cell_type": "markdown",
   "id": "e23fe7a4",
   "metadata": {},
   "source": [
    "### Effect of Hops"
   ]
  },
  {
   "cell_type": "code",
   "execution_count": 6,
   "id": "1e16d97a",
   "metadata": {},
   "outputs": [
    {
     "name": "stdout",
     "output_type": "stream",
     "text": [
      "993\n"
     ]
    }
   ],
   "source": [
    "for dataset in datasets:\n",
    "    for method in ['gap-edp', 'gap-ndp']:\n",
    "        hp = {**hparams[dataset][method]}\n",
    "        hp.pop('hops')\n",
    "        hops = [1,2,3,4,5]\n",
    "        epsilon = [1, 2, 4, 8] if method == 'gap-edp' else [2, 4, 8, 16]\n",
    "        run_factory.register(\n",
    "            method,\n",
    "            dataset=dataset,\n",
    "            hops=hops,\n",
    "            epsilon=epsilon,\n",
    "            **hp\n",
    "        )\n",
    "\n",
    "print(len(run_factory.get_all_runs()))"
   ]
  },
  {
   "cell_type": "markdown",
   "id": "e23fe7a4",
   "metadata": {},
   "source": [
    "### Effect of Degree"
   ]
  },
  {
   "cell_type": "code",
   "execution_count": 7,
   "id": "1e16d97a",
   "metadata": {},
   "outputs": [
    {
     "name": "stdout",
     "output_type": "stream",
     "text": [
      "1173\n"
     ]
    }
   ],
   "source": [
    "for dataset in datasets:\n",
    "    method = 'gap-ndp'\n",
    "    hp = {**hparams[dataset][method]}\n",
    "    hp.pop('max_degree')\n",
    "    max_degree = [10,20,50,100,200,300,400]\n",
    "    epsilon = [2, 4, 8, 16]\n",
    "    run_factory.register(\n",
    "        method,\n",
    "        dataset=dataset,\n",
    "        max_degree=max_degree,\n",
    "        epsilon=epsilon,\n",
    "        **hp\n",
    "    )\n",
    "\n",
    "print(len(run_factory.get_all_runs()))"
   ]
  },
  {
   "cell_type": "code",
   "execution_count": 8,
   "id": "1986afad",
   "metadata": {},
   "outputs": [
    {
     "name": "stdout",
     "output_type": "stream",
     "text": [
      "Saved 1173 runs to jobs/gap.sh\n"
     ]
    }
   ],
   "source": [
    "run_factory.save(path='jobs/gap.sh')"
   ]
  },
  {
   "cell_type": "code",
   "execution_count": null,
   "id": "48108afb",
   "metadata": {},
   "outputs": [],
   "source": []
  }
 ],
 "metadata": {
  "interpreter": {
   "hash": "1690ba48bac90b79f9fd48f79bebd053e96f578825c64a887e5d9c95b0e7c0e7"
  },
  "kernelspec": {
   "display_name": "Python 3.9.12 ('gap')",
   "language": "python",
   "name": "python3"
  },
  "language_info": {
   "codemirror_mode": {
    "name": "ipython",
    "version": 3
   },
   "file_extension": ".py",
   "mimetype": "text/x-python",
   "name": "python",
   "nbconvert_exporter": "python",
   "pygments_lexer": "ipython3",
   "version": "3.9.12"
  }
 },
 "nbformat": 4,
 "nbformat_minor": 5
}
