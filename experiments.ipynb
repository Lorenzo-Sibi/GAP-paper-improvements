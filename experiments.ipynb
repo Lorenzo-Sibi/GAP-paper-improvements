{
 "cells": [
  {
   "cell_type": "code",
   "execution_count": 1,
   "id": "ac38016c-7f0f-4c45-8c06-588afdcb8fe6",
   "metadata": {
    "tags": []
   },
   "outputs": [],
   "source": [
    "%reload_ext autoreload\n",
    "%autoreload 2"
   ]
  },
  {
   "cell_type": "code",
   "execution_count": 2,
   "id": "dd26cc80-5a84-48ab-ac33-715a101f61b8",
   "metadata": {},
   "outputs": [],
   "source": [
    "import os\n",
    "from itertools import product\n",
    "import wandb\n",
    "import numpy as np\n",
    "import pandas as pd"
   ]
  },
  {
   "cell_type": "code",
   "execution_count": 3,
   "id": "b7f97320-5fd2-436a-8ef1-6d85957407e9",
   "metadata": {},
   "outputs": [],
   "source": [
    "wandb_user = 'sisaman'\n",
    "wandb_project = 'GAP'"
   ]
  },
  {
   "cell_type": "code",
   "execution_count": 4,
   "id": "2d735c43-3800-45a8-bec1-a57573459325",
   "metadata": {},
   "outputs": [],
   "source": [
    "class RunFactory:\n",
    "    def __init__(self, entity, project, check_existing=True):\n",
    "        self.project = project\n",
    "        self.check_existing = check_existing\n",
    "        self.cmd_list = []\n",
    "\n",
    "        if check_existing:\n",
    "            api = wandb.Api()\n",
    "            projects = [project.name for project in api.projects(entity=entity)]\n",
    "            if wandb_project not in projects:\n",
    "                self.runs_df = pd.DataFrame()\n",
    "            else:\n",
    "                runs = api.runs(f\"{entity}/{project}\", per_page=2000)\n",
    "                config_list = []\n",
    "                for run in runs:\n",
    "                    config_list.append({k: v for k,v in run.config.items() if not k.startswith('_')})\n",
    "\n",
    "                self.runs_df = pd.DataFrame.from_dict(config_list)\n",
    "                if 'epsilon' in self.runs_df.columns:\n",
    "                    self.runs_df['epsilon'] = self.runs_df['epsilon'].astype(float)\n",
    "        \n",
    "    \n",
    "    def register(self, method: str, **params) -> list[str]:\n",
    "        for key, value in params.items():\n",
    "            if not (isinstance(value, list) or isinstance(value, tuple)):\n",
    "                params[key] = (value,)\n",
    "        \n",
    "        cmd_list = []\n",
    "        configs = self.product_dict(params)\n",
    "\n",
    "        for config in configs:\n",
    "            if not self.check_existing or len(self.find_runs(config)) == 0:\n",
    "                self.runs_df = pd.concat([self.runs_df, pd.DataFrame(config, index=[0])], ignore_index=True)\n",
    "                config['project'] = self.project\n",
    "                options = ' '.join([f' --{param} {value} ' for param, value in config.items()])\n",
    "                command = f'python train.py {method} {options}'\n",
    "                command = ' '.join(command.split())\n",
    "                cmd_list.append(command)\n",
    "\n",
    "        self.cmd_list += cmd_list\n",
    "        return cmd_list\n",
    "\n",
    "    def get_all_runs(self) -> list[str]:\n",
    "        return self.cmd_list\n",
    "\n",
    "    def save(self, path: str):\n",
    "        os.makedirs(os.path.dirname(path), exist_ok=True)\n",
    "        with open(path, 'w') as file:\n",
    "            for item in self.cmd_list:\n",
    "                print(item, file=file)\n",
    "        print(f'Saved {len(self.cmd_list)} commands to {path}')\n",
    "\n",
    "    def find_runs(self, config: dict) -> pd.DataFrame:\n",
    "        if set(config.keys()) - set(self.runs_df.columns):\n",
    "            # if config has a key not in runs_df, return an empty df\n",
    "            return pd.DataFrame()\n",
    "        else:\n",
    "            # return a df with rows corresponding to runs that match config\n",
    "            return self.runs_df.loc[np.all([self.runs_df[k] == v for k, v in config.items()], axis=0), :]\n",
    "\n",
    "    @staticmethod\n",
    "    def product_dict(params):\n",
    "        keys = params.keys()\n",
    "        vals = params.values()\n",
    "        for instance in product(*vals):\n",
    "            yield dict(zip(keys, instance))\n",
    "\n",
    "\n",
    "run_factory = RunFactory(entity=wandb_user, project=wandb_project, check_existing=True)"
   ]
  },
  {
   "cell_type": "markdown",
   "id": "09fd51b9-3ff7-42ff-88f8-9fbf7bc5f675",
   "metadata": {},
   "source": [
    "# Experiments"
   ]
  },
  {
   "cell_type": "markdown",
   "id": "d2692e1d",
   "metadata": {},
   "source": [
    "### Hyper-parameters"
   ]
  },
  {
   "cell_type": "code",
   "execution_count": 5,
   "id": "d0c10b08",
   "metadata": {},
   "outputs": [],
   "source": [
    "datasets = ['facebook', 'reddit', 'amazon']\n",
    "batch_size = {'facebook': 256, 'reddit': 2048, 'amazon': 4096}\n",
    "\n",
    "gap_methods  = ['gap-inf', 'gap-edp', 'gap-ndp']\n",
    "sage_methods = ['sage-inf', 'sage-edp', 'sage-ndp']\n",
    "mlp_methods  = ['mlp', 'mlp-dp']\n",
    "inf_methods  = ['gap-inf', 'sage-inf']\n",
    "edp_methods  = ['gap-edp', 'sage-edp', 'mlp']\n",
    "ndp_methods  = ['gap-ndp', 'sage-ndp', 'mlp-dp']\n",
    "all_methods  = inf_methods + edp_methods + ndp_methods\n",
    "\n",
    "hparams = {dataset: {method: {} for method in all_methods} for dataset in datasets}\n",
    "\n",
    "for dataset in datasets:\n",
    "    # For GAP methods\n",
    "    for method in gap_methods:\n",
    "        hparams[dataset][method]['encoder_layers'] = 2\n",
    "        hparams[dataset][method]['base_layers'] = 1\n",
    "        hparams[dataset][method]['head_layers'] = 1\n",
    "        hparams[dataset][method]['combine'] = 'cat'\n",
    "        hparams[dataset][method]['hops'] = [1, 2, 3, 4, 5]\n",
    "\n",
    "    # For SAGE methods\n",
    "    for method in sage_methods:\n",
    "        hparams[dataset][method]['base_layers'] = 2\n",
    "        hparams[dataset][method]['head_layers'] = 1\n",
    "        if method != 'sage-ndp':\n",
    "            hparams[dataset][method]['mp_layers'] = [1, 2, 3, 4, 5]\n",
    "        \n",
    "    # For MLP methods\n",
    "    for method in mlp_methods:\n",
    "        hparams[dataset][method]['num_layers'] = 3\n",
    "\n",
    "    # For GAP-NDP and SAGE-NDP\n",
    "    for method in ['gap-ndp', 'sage-ndp']:\n",
    "        hparams[dataset][method]['max_degree'] = [100, 200, 300, 400]\n",
    "\n",
    "    # For all methods\n",
    "    for method in all_methods:\n",
    "        hparams[dataset][method]['hidden_dim'] = 16\n",
    "        hparams[dataset][method]['activation'] = 'selu'\n",
    "        hparams[dataset][method]['optimizer'] = 'adam'\n",
    "        hparams[dataset][method]['learning_rate'] = 0.01\n",
    "        hparams[dataset][method]['repeats'] = 1                                           # FIXME: change this to 10 after sanity check\n",
    "        if method in ndp_methods:\n",
    "            hparams[dataset][method]['max_grad_norm'] = 1\n",
    "            hparams[dataset][method]['epochs'] = 10\n",
    "            hparams[dataset][method]['batch_size'] = batch_size[dataset]\n",
    "        else:\n",
    "            hparams[dataset][method]['batch_norm'] = True\n",
    "            hparams[dataset][method]['epochs'] = 100\n",
    "            hparams[dataset][method]['batch_size'] = 'full'\n",
    "\n",
    "\n",
    "    # For GAP methods\n",
    "    for method in gap_methods:\n",
    "        hparams[dataset][method]['encoder_epochs'] = hparams[dataset][method]['epochs']\n"
   ]
  },
  {
   "cell_type": "markdown",
   "id": "e23fe7a4",
   "metadata": {},
   "source": [
    "### Accuracy/Privacy Trade-off"
   ]
  },
  {
   "cell_type": "code",
   "execution_count": 6,
   "id": "52368aff",
   "metadata": {},
   "outputs": [
    {
     "name": "stdout",
     "output_type": "stream",
     "text": [
      "1002\n"
     ]
    }
   ],
   "source": [
    "for dataset in datasets:\n",
    "    for method in all_methods:\n",
    "        params = {}\n",
    "        if method in ndp_methods:\n",
    "            params['epsilon'] = [1, 2, 3, 4, 5, 10, 15, 20, 25]\n",
    "        elif method in edp_methods:\n",
    "            params['epsilon'] = [0.2, 0.4, 0.6, 0.8, 1, 3, 5, 7, 9]\n",
    "            \n",
    "        run_factory.register(\n",
    "            method=method, \n",
    "            dataset=dataset,\n",
    "            **params, \n",
    "            **hparams[dataset][method]\n",
    "        )\n",
    "\n",
    "print(len(run_factory.get_all_runs()))"
   ]
  },
  {
   "cell_type": "markdown",
   "id": "e23fe7a4",
   "metadata": {},
   "source": [
    "### Effect of Encoder Module"
   ]
  },
  {
   "cell_type": "code",
   "execution_count": 7,
   "id": "1e16d97a",
   "metadata": {},
   "outputs": [
    {
     "name": "stdout",
     "output_type": "stream",
     "text": [
      "1377\n"
     ]
    }
   ],
   "source": [
    "for dataset in datasets:\n",
    "    for method in ['gap-edp', 'gap-ndp']:\n",
    "        hp = {**hparams[dataset][method]}\n",
    "        default_encoder_layers = hp.pop('encoder_layers')\n",
    "        epsilon = [1,3,5,7,9] if method == 'gap-edp' else [5,10,15,20,25]\n",
    "        run_factory.register(\n",
    "            method=method,\n",
    "            dataset=dataset,\n",
    "            encoder_layers=[0, default_encoder_layers],\n",
    "            epsilon=epsilon,\n",
    "            **hp\n",
    "        )\n",
    "\n",
    "print(len(run_factory.get_all_runs()))"
   ]
  },
  {
   "cell_type": "markdown",
   "id": "e23fe7a4",
   "metadata": {},
   "source": [
    "### Effect of Hops"
   ]
  },
  {
   "cell_type": "code",
   "execution_count": 8,
   "id": "1e16d97a",
   "metadata": {},
   "outputs": [
    {
     "name": "stdout",
     "output_type": "stream",
     "text": [
      "1377\n"
     ]
    }
   ],
   "source": [
    "for dataset in datasets:\n",
    "    for method in ['gap-edp', 'gap-ndp']:\n",
    "        hp = {**hparams[dataset][method]}\n",
    "        hp.pop('hops')\n",
    "        hops = [1,2,3,4,5]\n",
    "        epsilon = [1,3,7,9] if method == 'gap-edp' else [5,10,20,25]\n",
    "        run_factory.register(\n",
    "            method=method,\n",
    "            dataset=dataset,\n",
    "            hops=hops,\n",
    "            epsilon=epsilon,\n",
    "            **hp\n",
    "        )\n",
    "\n",
    "print(len(run_factory.get_all_runs()))"
   ]
  },
  {
   "cell_type": "markdown",
   "id": "e23fe7a4",
   "metadata": {},
   "source": [
    "### Effect of Degree"
   ]
  },
  {
   "cell_type": "code",
   "execution_count": 9,
   "id": "1e16d97a",
   "metadata": {},
   "outputs": [
    {
     "name": "stdout",
     "output_type": "stream",
     "text": [
      "1557\n"
     ]
    }
   ],
   "source": [
    "for dataset in datasets:\n",
    "    method = 'gap-ndp'\n",
    "    hp = {**hparams[dataset][method]}\n",
    "    hp.pop('max_degree')\n",
    "    max_degree = [10,20,50,100,200,300,400]\n",
    "    epsilon = [5,10,20,25]\n",
    "    run_factory.register(\n",
    "        method=method,\n",
    "        dataset=dataset,\n",
    "        max_degree=max_degree,\n",
    "        epsilon=epsilon,\n",
    "        **hp\n",
    "    )\n",
    "\n",
    "print(len(run_factory.get_all_runs()))"
   ]
  },
  {
   "cell_type": "code",
   "execution_count": 10,
   "id": "1986afad",
   "metadata": {},
   "outputs": [
    {
     "name": "stdout",
     "output_type": "stream",
     "text": [
      "Saved 1557 commands to jobs/experiments.sh\n"
     ]
    }
   ],
   "source": [
    "run_factory.save(path='jobs/experiments.sh')"
   ]
  },
  {
   "cell_type": "code",
   "execution_count": null,
   "id": "48108afb",
   "metadata": {},
   "outputs": [],
   "source": []
  }
 ],
 "metadata": {
  "interpreter": {
   "hash": "1690ba48bac90b79f9fd48f79bebd053e96f578825c64a887e5d9c95b0e7c0e7"
  },
  "kernelspec": {
   "display_name": "Python 3.9.12 ('gap')",
   "language": "python",
   "name": "python3"
  },
  "language_info": {
   "codemirror_mode": {
    "name": "ipython",
    "version": 3
   },
   "file_extension": ".py",
   "mimetype": "text/x-python",
   "name": "python",
   "nbconvert_exporter": "python",
   "pygments_lexer": "ipython3",
   "version": "3.9.12"
  }
 },
 "nbformat": 4,
 "nbformat_minor": 5
}
