{
 "cells": [
  {
   "cell_type": "code",
   "execution_count": 1,
   "metadata": {},
   "outputs": [
    {
     "data": {
      "application/vnd.jupyter.widget-view+json": {
       "model_id": "b6e2c49fba454c839b32cc20a8c73ac2",
       "version_major": 2,
       "version_minor": 0
      },
      "text/plain": [
       "Output()"
      ]
     },
     "metadata": {},
     "output_type": "display_data"
    },
    {
     "data": {
      "text/html": [
       "<pre style=\"white-space:pre;overflow-x:auto;line-height:normal;font-family:Menlo,'DejaVu Sans Mono',consolas,'Courier New',monospace\"></pre>\n"
      ],
      "text/plain": []
     },
     "metadata": {},
     "output_type": "display_data"
    },
    {
     "data": {
      "text/html": [
       "<pre style=\"white-space:pre;overflow-x:auto;line-height:normal;font-family:Menlo,'DejaVu Sans Mono',consolas,'Courier New',monospace\"><span style=\"color: #7fbfbf; text-decoration-color: #7fbfbf\">[13:10:04] </span><span style=\"color: #000080; text-decoration-color: #000080\">INFO    </span> importing modules<span style=\"color: #808000; text-decoration-color: #808000\">...</span>done in <span style=\"color: #008080; text-decoration-color: #008080; font-weight: bold\">8.27</span> s                                                                                                                                   <a href=\"file:///idiap/temp/sajadmanesh/.tmp/ipykernel_1222277/872041030.py\" target=\"_blank\"><span style=\"color: #7f7f7f; text-decoration-color: #7f7f7f\">872041030.py</span></a><span style=\"color: #7f7f7f; text-decoration-color: #7f7f7f\">:</span><a href=\"file:///idiap/temp/sajadmanesh/.tmp/ipykernel_1222277/872041030.py#18\" target=\"_blank\"><span style=\"color: #7f7f7f; text-decoration-color: #7f7f7f\">18</span></a>\n",
       "</pre>\n"
      ],
      "text/plain": [
       "\u001b[2;36m[13:10:04]\u001b[0m\u001b[2;36m \u001b[0m\u001b[34mINFO    \u001b[0m importing modules\u001b[33m...\u001b[0mdone in \u001b[1;36m8.27\u001b[0m s                                                                                                                                   \u001b]8;id=275785;file:///idiap/temp/sajadmanesh/.tmp/ipykernel_1222277/872041030.py\u001b\\\u001b[2m872041030.py\u001b[0m\u001b]8;;\u001b\\\u001b[2m:\u001b[0m\u001b]8;id=501474;file:///idiap/temp/sajadmanesh/.tmp/ipykernel_1222277/872041030.py#18\u001b\\\u001b[2m18\u001b[0m\u001b]8;;\u001b\\\n"
      ]
     },
     "metadata": {},
     "output_type": "display_data"
    },
    {
     "data": {
      "text/html": [
       "<pre style=\"white-space:pre;overflow-x:auto;line-height:normal;font-family:Menlo,'DejaVu Sans Mono',consolas,'Courier New',monospace\">\n",
       "</pre>\n"
      ],
      "text/plain": [
       "\n"
      ]
     },
     "metadata": {},
     "output_type": "display_data"
    },
    {
     "data": {
      "text/html": [
       "<pre style=\"white-space:pre;overflow-x:auto;line-height:normal;font-family:Menlo,'DejaVu Sans Mono',consolas,'Courier New',monospace\"><span style=\"color: #7fbfbf; text-decoration-color: #7fbfbf\">           </span><span style=\"color: #000080; text-decoration-color: #000080\">INFO    </span> <span style=\"font-style: italic\">                                                        program arguments                                                         </span>                                      <a href=\"file:///remote/idiap.svm/user.active/sajadmanesh/Github/GAP/core/args/utils.py\" target=\"_blank\"><span style=\"color: #7f7f7f; text-decoration-color: #7f7f7f\">utils.py</span></a><span style=\"color: #7f7f7f; text-decoration-color: #7f7f7f\">:</span><a href=\"file:///remote/idiap.svm/user.active/sajadmanesh/Github/GAP/core/args/utils.py#184\" target=\"_blank\"><span style=\"color: #7f7f7f; text-decoration-color: #7f7f7f\">184</span></a>\n",
       "<span style=\"color: #7fbfbf; text-decoration-color: #7fbfbf\">           </span>          ────────────────────────────────────────────────────────────────────────────────────────────────────────────────────────────────                                       <span style=\"color: #7f7f7f; text-decoration-color: #7f7f7f\">            </span>\n",
       "<span style=\"color: #7fbfbf; text-decoration-color: #7fbfbf\">           </span>           method:             mlp         target_learning_rate:    <span style=\"color: #008080; text-decoration-color: #008080; font-weight: bold\">0.01</span>   attack_num_layers:       <span style=\"color: #008080; text-decoration-color: #008080; font-weight: bold\">2</span>     attack_val_interval:  <span style=\"color: #008080; text-decoration-color: #008080; font-weight: bold\">1</span>                                                <span style=\"color: #7f7f7f; text-decoration-color: #7f7f7f\">            </span>\n",
       "<span style=\"color: #7fbfbf; text-decoration-color: #7fbfbf\">           </span>           attack:             nmi         target_weight_decay:     <span style=\"color: #008080; text-decoration-color: #008080; font-weight: bold\">0.0</span>    attack_activation:       selu  device:               cuda                                             <span style=\"color: #7f7f7f; text-decoration-color: #7f7f7f\">            </span>\n",
       "<span style=\"color: #7fbfbf; text-decoration-color: #7fbfbf\">           </span>           dataset:            facebook    target_epochs:           <span style=\"color: #008080; text-decoration-color: #008080; font-weight: bold\">100</span>    attack_dropout:          <span style=\"color: #008080; text-decoration-color: #008080; font-weight: bold\">0.0</span>   use_amp:              <span style=\"color: #ff0000; text-decoration-color: #ff0000; font-style: italic\">False</span>                                            <span style=\"color: #7f7f7f; text-decoration-color: #7f7f7f\">            </span>\n",
       "<span style=\"color: #7fbfbf; text-decoration-color: #7fbfbf\">           </span>           data_dir:           .<span style=\"color: #800080; text-decoration-color: #800080\">/</span><span style=\"color: #ff00ff; text-decoration-color: #ff00ff\">datasets</span>  target_batch_size:       full   attack_batch_norm:       <span style=\"color: #00ff00; text-decoration-color: #00ff00; font-style: italic\">True</span>  seed:                 <span style=\"color: #008080; text-decoration-color: #008080; font-weight: bold\">12345</span>                                            <span style=\"color: #7f7f7f; text-decoration-color: #7f7f7f\">            </span>\n",
       "<span style=\"color: #7fbfbf; text-decoration-color: #7fbfbf\">           </span>           target_hidden_dim:  <span style=\"color: #008080; text-decoration-color: #008080; font-weight: bold\">512</span>         target_full_batch_eval:  <span style=\"color: #00ff00; text-decoration-color: #00ff00; font-style: italic\">True</span>   attack_optimizer:        adam  repeats:              <span style=\"color: #008080; text-decoration-color: #008080; font-weight: bold\">1</span>                                                <span style=\"color: #7f7f7f; text-decoration-color: #7f7f7f\">            </span>\n",
       "<span style=\"color: #7fbfbf; text-decoration-color: #7fbfbf\">           </span>           target_num_layers:  <span style=\"color: #008080; text-decoration-color: #008080; font-weight: bold\">4</span>           target_val_interval:     <span style=\"color: #008080; text-decoration-color: #008080; font-weight: bold\">0</span>      attack_learning_rate:    <span style=\"color: #008080; text-decoration-color: #008080; font-weight: bold\">0.01</span>  logger:               csv                                              <span style=\"color: #7f7f7f; text-decoration-color: #7f7f7f\">            </span>\n",
       "<span style=\"color: #7fbfbf; text-decoration-color: #7fbfbf\">           </span>           target_activation:  relu        num_train_nodes:         <span style=\"color: #008080; text-decoration-color: #008080; font-weight: bold\">10000</span>  attack_weight_decay:     <span style=\"color: #008080; text-decoration-color: #008080; font-weight: bold\">0.0</span>   project:              GAP-DEBUG                                        <span style=\"color: #7f7f7f; text-decoration-color: #7f7f7f\">            </span>\n",
       "<span style=\"color: #7fbfbf; text-decoration-color: #7fbfbf\">           </span>           target_dropout:     <span style=\"color: #008080; text-decoration-color: #008080; font-weight: bold\">0.0</span>         num_val_nodes:           <span style=\"color: #008080; text-decoration-color: #008080; font-weight: bold\">100</span>    attack_epochs:           <span style=\"color: #008080; text-decoration-color: #008080; font-weight: bold\">100</span>   output_dir:           .<span style=\"color: #800080; text-decoration-color: #800080\">/</span><span style=\"color: #ff00ff; text-decoration-color: #ff00ff\">output</span>                                         <span style=\"color: #7f7f7f; text-decoration-color: #7f7f7f\">            </span>\n",
       "<span style=\"color: #7fbfbf; text-decoration-color: #7fbfbf\">           </span>           target_batch_norm:  <span style=\"color: #ff0000; text-decoration-color: #ff0000; font-style: italic\">False</span>       sort_scores:             <span style=\"color: #ff0000; text-decoration-color: #ff0000; font-style: italic\">False</span>  attack_batch_size:       full  debug:                <span style=\"color: #ff0000; text-decoration-color: #ff0000; font-style: italic\">False</span>                                            <span style=\"color: #7f7f7f; text-decoration-color: #7f7f7f\">            </span>\n",
       "<span style=\"color: #7fbfbf; text-decoration-color: #7fbfbf\">           </span>           target_optimizer:   adam        attack_hidden_dim:       <span style=\"color: #008080; text-decoration-color: #008080; font-weight: bold\">16</span>     attack_full_batch_eval:  <span style=\"color: #00ff00; text-decoration-color: #00ff00; font-style: italic\">True</span>                                                                         <span style=\"color: #7f7f7f; text-decoration-color: #7f7f7f\">            </span>\n",
       "<span style=\"color: #7fbfbf; text-decoration-color: #7fbfbf\">           </span>          ────────────────────────────────────────────────────────────────────────────────────────────────────────────────────────────────                                       <span style=\"color: #7f7f7f; text-decoration-color: #7f7f7f\">            </span>\n",
       "</pre>\n"
      ],
      "text/plain": [
       "\u001b[2;36m          \u001b[0m\u001b[2;36m \u001b[0m\u001b[34mINFO    \u001b[0m \u001b[3m                                                        program arguments                                                         \u001b[0m                                      \u001b]8;id=693498;file:///remote/idiap.svm/user.active/sajadmanesh/Github/GAP/core/args/utils.py\u001b\\\u001b[2mutils.py\u001b[0m\u001b]8;;\u001b\\\u001b[2m:\u001b[0m\u001b]8;id=510438;file:///remote/idiap.svm/user.active/sajadmanesh/Github/GAP/core/args/utils.py#184\u001b\\\u001b[2m184\u001b[0m\u001b]8;;\u001b\\\n",
       "\u001b[2;36m           \u001b[0m          ────────────────────────────────────────────────────────────────────────────────────────────────────────────────────────────────                                       \u001b[2m            \u001b[0m\n",
       "\u001b[2;36m           \u001b[0m           method:             mlp         target_learning_rate:    \u001b[1;36m0.01\u001b[0m   attack_num_layers:       \u001b[1;36m2\u001b[0m     attack_val_interval:  \u001b[1;36m1\u001b[0m                                                \u001b[2m            \u001b[0m\n",
       "\u001b[2;36m           \u001b[0m           attack:             nmi         target_weight_decay:     \u001b[1;36m0.0\u001b[0m    attack_activation:       selu  device:               cuda                                             \u001b[2m            \u001b[0m\n",
       "\u001b[2;36m           \u001b[0m           dataset:            facebook    target_epochs:           \u001b[1;36m100\u001b[0m    attack_dropout:          \u001b[1;36m0.0\u001b[0m   use_amp:              \u001b[3;91mFalse\u001b[0m                                            \u001b[2m            \u001b[0m\n",
       "\u001b[2;36m           \u001b[0m           data_dir:           .\u001b[35m/\u001b[0m\u001b[95mdatasets\u001b[0m  target_batch_size:       full   attack_batch_norm:       \u001b[3;92mTrue\u001b[0m  seed:                 \u001b[1;36m12345\u001b[0m                                            \u001b[2m            \u001b[0m\n",
       "\u001b[2;36m           \u001b[0m           target_hidden_dim:  \u001b[1;36m512\u001b[0m         target_full_batch_eval:  \u001b[3;92mTrue\u001b[0m   attack_optimizer:        adam  repeats:              \u001b[1;36m1\u001b[0m                                                \u001b[2m            \u001b[0m\n",
       "\u001b[2;36m           \u001b[0m           target_num_layers:  \u001b[1;36m4\u001b[0m           target_val_interval:     \u001b[1;36m0\u001b[0m      attack_learning_rate:    \u001b[1;36m0.01\u001b[0m  logger:               csv                                              \u001b[2m            \u001b[0m\n",
       "\u001b[2;36m           \u001b[0m           target_activation:  relu        num_train_nodes:         \u001b[1;36m10000\u001b[0m  attack_weight_decay:     \u001b[1;36m0.0\u001b[0m   project:              GAP-DEBUG                                        \u001b[2m            \u001b[0m\n",
       "\u001b[2;36m           \u001b[0m           target_dropout:     \u001b[1;36m0.0\u001b[0m         num_val_nodes:           \u001b[1;36m100\u001b[0m    attack_epochs:           \u001b[1;36m100\u001b[0m   output_dir:           .\u001b[35m/\u001b[0m\u001b[95moutput\u001b[0m                                         \u001b[2m            \u001b[0m\n",
       "\u001b[2;36m           \u001b[0m           target_batch_norm:  \u001b[3;91mFalse\u001b[0m       sort_scores:             \u001b[3;91mFalse\u001b[0m  attack_batch_size:       full  debug:                \u001b[3;91mFalse\u001b[0m                                            \u001b[2m            \u001b[0m\n",
       "\u001b[2;36m           \u001b[0m           target_optimizer:   adam        attack_hidden_dim:       \u001b[1;36m16\u001b[0m     attack_full_batch_eval:  \u001b[3;92mTrue\u001b[0m                                                                         \u001b[2m            \u001b[0m\n",
       "\u001b[2;36m           \u001b[0m          ────────────────────────────────────────────────────────────────────────────────────────────────────────────────────────────────                                       \u001b[2m            \u001b[0m\n"
      ]
     },
     "metadata": {},
     "output_type": "display_data"
    },
    {
     "data": {
      "text/html": [
       "<pre style=\"white-space:pre;overflow-x:auto;line-height:normal;font-family:Menlo,'DejaVu Sans Mono',consolas,'Courier New',monospace\">\n",
       "</pre>\n"
      ],
      "text/plain": [
       "\n"
      ]
     },
     "metadata": {},
     "output_type": "display_data"
    },
    {
     "data": {
      "application/vnd.jupyter.widget-view+json": {
       "model_id": "6ffcb7429b0f4f6ba06baae6ee6b8c04",
       "version_major": 2,
       "version_minor": 0
      },
      "text/plain": [
       "Output()"
      ]
     },
     "metadata": {},
     "output_type": "display_data"
    },
    {
     "data": {
      "text/html": [
       "<pre style=\"white-space:pre;overflow-x:auto;line-height:normal;font-family:Menlo,'DejaVu Sans Mono',consolas,'Courier New',monospace\"><span style=\"color: #7fbfbf; text-decoration-color: #7fbfbf\">           </span><span style=\"color: #000080; text-decoration-color: #000080\">INFO    </span> <span style=\"font-style: italic\">                                                       dataset stats                                                       </span>                                             <a href=\"file:///remote/idiap.svm/user.active/sajadmanesh/Github/GAP/core/datasets/loader.py\" target=\"_blank\"><span style=\"color: #7f7f7f; text-decoration-color: #7f7f7f\">loader.py</span></a><span style=\"color: #7f7f7f; text-decoration-color: #7f7f7f\">:</span><a href=\"file:///remote/idiap.svm/user.active/sajadmanesh/Github/GAP/core/datasets/loader.py#79\" target=\"_blank\"><span style=\"color: #7f7f7f; text-decoration-color: #7f7f7f\">79</span></a>\n",
       "<span style=\"color: #7fbfbf; text-decoration-color: #7fbfbf\">           </span>          ─────────────────────────────────────────────────────────────────────────────────────────────────────────────────────────                                              <span style=\"color: #7f7f7f; text-decoration-color: #7f7f7f\">            </span>\n",
       "<span style=\"color: #7fbfbf; text-decoration-color: #7fbfbf\">           </span>          <span style=\"font-weight: bold\"> name     </span> <span style=\"font-weight: bold\"> nodes  </span> <span style=\"font-weight: bold\"> edges     </span> <span style=\"font-weight: bold\"> features </span> <span style=\"font-weight: bold\"> classes </span> <span style=\"font-weight: bold\"> mean degree </span> <span style=\"font-weight: bold\"> median degree </span> <span style=\"font-weight: bold\"> train/val/test (%)    </span> <span style=\"font-weight: bold\"> baseline (%) </span>                                              <span style=\"color: #7f7f7f; text-decoration-color: #7f7f7f\">            </span>\n",
       "<span style=\"color: #7fbfbf; text-decoration-color: #7fbfbf\">           </span>          ─────────────────────────────────────────────────────────────────────────────────────────────────────────────────────────                                              <span style=\"color: #7f7f7f; text-decoration-color: #7f7f7f\">            </span>\n",
       "<span style=\"color: #7fbfbf; text-decoration-color: #7fbfbf\">           </span>           facebook   <span style=\"color: #008080; text-decoration-color: #008080; font-weight: bold\">26</span>,<span style=\"color: #008080; text-decoration-color: #008080; font-weight: bold\">406</span>   <span style=\"color: #008080; text-decoration-color: #008080; font-weight: bold\">2</span>,<span style=\"color: #008080; text-decoration-color: #008080; font-weight: bold\">117</span>,<span style=\"color: #008080; text-decoration-color: #008080; font-weight: bold\">924</span>   <span style=\"color: #008080; text-decoration-color: #008080; font-weight: bold\">501</span>        <span style=\"color: #008080; text-decoration-color: #008080; font-weight: bold\">6</span>         <span style=\"color: #008080; text-decoration-color: #008080; font-weight: bold\">80.21</span>         <span style=\"color: #008080; text-decoration-color: #008080; font-weight: bold\">62.0</span>            <span style=\"color: #008080; text-decoration-color: #008080; font-weight: bold\">75.02</span> <span style=\"color: #800080; text-decoration-color: #800080\">/</span> <span style=\"color: #008080; text-decoration-color: #008080; font-weight: bold\">10.00</span> <span style=\"color: #800080; text-decoration-color: #800080\">/</span> <span style=\"color: #008080; text-decoration-color: #008080; font-weight: bold\">14.98</span>   <span style=\"color: #008080; text-decoration-color: #008080; font-weight: bold\">22.93</span>                                                      <span style=\"color: #7f7f7f; text-decoration-color: #7f7f7f\">            </span>\n",
       "<span style=\"color: #7fbfbf; text-decoration-color: #7fbfbf\">           </span>          ─────────────────────────────────────────────────────────────────────────────────────────────────────────────────────────                                              <span style=\"color: #7f7f7f; text-decoration-color: #7f7f7f\">            </span>\n",
       "</pre>\n"
      ],
      "text/plain": [
       "\u001b[2;36m          \u001b[0m\u001b[2;36m \u001b[0m\u001b[34mINFO    \u001b[0m \u001b[3m                                                       dataset stats                                                       \u001b[0m                                             \u001b]8;id=768276;file:///remote/idiap.svm/user.active/sajadmanesh/Github/GAP/core/datasets/loader.py\u001b\\\u001b[2mloader.py\u001b[0m\u001b]8;;\u001b\\\u001b[2m:\u001b[0m\u001b]8;id=860015;file:///remote/idiap.svm/user.active/sajadmanesh/Github/GAP/core/datasets/loader.py#79\u001b\\\u001b[2m79\u001b[0m\u001b]8;;\u001b\\\n",
       "\u001b[2;36m           \u001b[0m          ─────────────────────────────────────────────────────────────────────────────────────────────────────────────────────────                                              \u001b[2m            \u001b[0m\n",
       "\u001b[2;36m           \u001b[0m          \u001b[1m \u001b[0m\u001b[1mname    \u001b[0m\u001b[1m \u001b[0m \u001b[1m \u001b[0m\u001b[1mnodes \u001b[0m\u001b[1m \u001b[0m \u001b[1m \u001b[0m\u001b[1medges    \u001b[0m\u001b[1m \u001b[0m \u001b[1m \u001b[0m\u001b[1mfeatures\u001b[0m\u001b[1m \u001b[0m \u001b[1m \u001b[0m\u001b[1mclasses\u001b[0m\u001b[1m \u001b[0m \u001b[1m \u001b[0m\u001b[1mmean degree\u001b[0m\u001b[1m \u001b[0m \u001b[1m \u001b[0m\u001b[1mmedian degree\u001b[0m\u001b[1m \u001b[0m \u001b[1m \u001b[0m\u001b[1mtrain/val/test (%)   \u001b[0m\u001b[1m \u001b[0m \u001b[1m \u001b[0m\u001b[1mbaseline (%)\u001b[0m\u001b[1m \u001b[0m                                              \u001b[2m            \u001b[0m\n",
       "\u001b[2;36m           \u001b[0m          ─────────────────────────────────────────────────────────────────────────────────────────────────────────────────────────                                              \u001b[2m            \u001b[0m\n",
       "\u001b[2;36m           \u001b[0m           facebook   \u001b[1;36m26\u001b[0m,\u001b[1;36m406\u001b[0m   \u001b[1;36m2\u001b[0m,\u001b[1;36m117\u001b[0m,\u001b[1;36m924\u001b[0m   \u001b[1;36m501\u001b[0m        \u001b[1;36m6\u001b[0m         \u001b[1;36m80.21\u001b[0m         \u001b[1;36m62.0\u001b[0m            \u001b[1;36m75.02\u001b[0m \u001b[35m/\u001b[0m \u001b[1;36m10.00\u001b[0m \u001b[35m/\u001b[0m \u001b[1;36m14.98\u001b[0m   \u001b[1;36m22.93\u001b[0m                                                      \u001b[2m            \u001b[0m\n",
       "\u001b[2;36m           \u001b[0m          ─────────────────────────────────────────────────────────────────────────────────────────────────────────────────────────                                              \u001b[2m            \u001b[0m\n"
      ]
     },
     "metadata": {},
     "output_type": "display_data"
    },
    {
     "data": {
      "text/html": [
       "<pre style=\"white-space:pre;overflow-x:auto;line-height:normal;font-family:Menlo,'DejaVu Sans Mono',consolas,'Courier New',monospace\">\n",
       "</pre>\n"
      ],
      "text/plain": [
       "\n"
      ]
     },
     "metadata": {},
     "output_type": "display_data"
    },
    {
     "data": {
      "text/html": [
       "<pre style=\"white-space:pre;overflow-x:auto;line-height:normal;font-family:Menlo,'DejaVu Sans Mono',consolas,'Courier New',monospace\"></pre>\n"
      ],
      "text/plain": []
     },
     "metadata": {},
     "output_type": "display_data"
    },
    {
     "data": {
      "text/html": [
       "<pre style=\"white-space:pre;overflow-x:auto;line-height:normal;font-family:Menlo,'DejaVu Sans Mono',consolas,'Courier New',monospace\"><span style=\"color: #7fbfbf; text-decoration-color: #7fbfbf\">           </span><span style=\"color: #000080; text-decoration-color: #000080\">INFO    </span> loading dataset<span style=\"color: #808000; text-decoration-color: #808000\">...</span>done in <span style=\"color: #008080; text-decoration-color: #008080; font-weight: bold\">0.49</span> s                                                                                                                                     <a href=\"file:///idiap/temp/sajadmanesh/.tmp/ipykernel_1222277/872041030.py\" target=\"_blank\"><span style=\"color: #7f7f7f; text-decoration-color: #7f7f7f\">872041030.py</span></a><span style=\"color: #7f7f7f; text-decoration-color: #7f7f7f\">:</span><a href=\"file:///idiap/temp/sajadmanesh/.tmp/ipykernel_1222277/872041030.py#47\" target=\"_blank\"><span style=\"color: #7f7f7f; text-decoration-color: #7f7f7f\">47</span></a>\n",
       "</pre>\n"
      ],
      "text/plain": [
       "\u001b[2;36m          \u001b[0m\u001b[2;36m \u001b[0m\u001b[34mINFO    \u001b[0m loading dataset\u001b[33m...\u001b[0mdone in \u001b[1;36m0.49\u001b[0m s                                                                                                                                     \u001b]8;id=865291;file:///idiap/temp/sajadmanesh/.tmp/ipykernel_1222277/872041030.py\u001b\\\u001b[2m872041030.py\u001b[0m\u001b]8;;\u001b\\\u001b[2m:\u001b[0m\u001b]8;id=313146;file:///idiap/temp/sajadmanesh/.tmp/ipykernel_1222277/872041030.py#47\u001b\\\u001b[2m47\u001b[0m\u001b]8;;\u001b\\\n"
      ]
     },
     "metadata": {},
     "output_type": "display_data"
    },
    {
     "data": {
      "application/vnd.jupyter.widget-view+json": {
       "model_id": "4aba3de441e24b27823850da6389db27",
       "version_major": 2,
       "version_minor": 0
      },
      "text/plain": [
       "Output()"
      ]
     },
     "metadata": {},
     "output_type": "display_data"
    },
    {
     "data": {
      "text/html": [
       "<pre style=\"white-space:pre;overflow-x:auto;line-height:normal;font-family:Menlo,'DejaVu Sans Mono',consolas,'Courier New',monospace\"></pre>\n"
      ],
      "text/plain": []
     },
     "metadata": {},
     "output_type": "display_data"
    },
    {
     "data": {
      "text/html": [
       "<pre style=\"white-space:pre;overflow-x:auto;line-height:normal;font-family:Menlo,'DejaVu Sans Mono',consolas,'Courier New',monospace\"><span style=\"color: #7fbfbf; text-decoration-color: #7fbfbf\">[13:10:07] </span><span style=\"color: #000080; text-decoration-color: #000080\">INFO    </span> moving data to cuda<span style=\"color: #808000; text-decoration-color: #808000\">...</span>done in <span style=\"color: #008080; text-decoration-color: #008080; font-weight: bold\">2.62</span> s                                                                                                                                 <a href=\"file:///idiap/temp/sajadmanesh/.tmp/ipykernel_1222277/872041030.py\" target=\"_blank\"><span style=\"color: #7f7f7f; text-decoration-color: #7f7f7f\">872041030.py</span></a><span style=\"color: #7f7f7f; text-decoration-color: #7f7f7f\">:</span><a href=\"file:///idiap/temp/sajadmanesh/.tmp/ipykernel_1222277/872041030.py#81\" target=\"_blank\"><span style=\"color: #7f7f7f; text-decoration-color: #7f7f7f\">81</span></a>\n",
       "</pre>\n"
      ],
      "text/plain": [
       "\u001b[2;36m[13:10:07]\u001b[0m\u001b[2;36m \u001b[0m\u001b[34mINFO    \u001b[0m moving data to cuda\u001b[33m...\u001b[0mdone in \u001b[1;36m2.62\u001b[0m s                                                                                                                                 \u001b]8;id=896677;file:///idiap/temp/sajadmanesh/.tmp/ipykernel_1222277/872041030.py\u001b\\\u001b[2m872041030.py\u001b[0m\u001b]8;;\u001b\\\u001b[2m:\u001b[0m\u001b]8;id=977047;file:///idiap/temp/sajadmanesh/.tmp/ipykernel_1222277/872041030.py#81\u001b\\\u001b[2m81\u001b[0m\u001b]8;;\u001b\\\n"
      ]
     },
     "metadata": {},
     "output_type": "display_data"
    },
    {
     "data": {
      "text/html": [
       "<pre style=\"white-space:pre;overflow-x:auto;line-height:normal;font-family:Menlo,'DejaVu Sans Mono',consolas,'Courier New',monospace\"><span style=\"color: #7fbfbf; text-decoration-color: #7fbfbf\">           </span><span style=\"color: #008000; text-decoration-color: #008000\">DEBUG   </span> target dataset: <span style=\"color: #008080; text-decoration-color: #008080; font-weight: bold\">9383</span> train nodes, <span style=\"color: #008080; text-decoration-color: #008080; font-weight: bold\">100</span> val nodes, <span style=\"color: #008080; text-decoration-color: #008080; font-weight: bold\">16923</span> test nodes                                                                                                         <a href=\"file:///remote/idiap.svm/user.active/sajadmanesh/Github/GAP/core/attacks/base.py\" target=\"_blank\"><span style=\"color: #7f7f7f; text-decoration-color: #7f7f7f\">base.py</span></a><span style=\"color: #7f7f7f; text-decoration-color: #7f7f7f\">:</span><a href=\"file:///remote/idiap.svm/user.active/sajadmanesh/Github/GAP/core/attacks/base.py#90\" target=\"_blank\"><span style=\"color: #7f7f7f; text-decoration-color: #7f7f7f\">90</span></a>\n",
       "</pre>\n"
      ],
      "text/plain": [
       "\u001b[2;36m          \u001b[0m\u001b[2;36m \u001b[0m\u001b[32mDEBUG   \u001b[0m target dataset: \u001b[1;36m9383\u001b[0m train nodes, \u001b[1;36m100\u001b[0m val nodes, \u001b[1;36m16923\u001b[0m test nodes                                                                                                         \u001b]8;id=283372;file:///remote/idiap.svm/user.active/sajadmanesh/Github/GAP/core/attacks/base.py\u001b\\\u001b[2mbase.py\u001b[0m\u001b]8;;\u001b\\\u001b[2m:\u001b[0m\u001b]8;id=457418;file:///remote/idiap.svm/user.active/sajadmanesh/Github/GAP/core/attacks/base.py#90\u001b\\\u001b[2m90\u001b[0m\u001b]8;;\u001b\\\n"
      ]
     },
     "metadata": {},
     "output_type": "display_data"
    },
    {
     "data": {
      "text/html": [
       "<pre style=\"white-space:pre;overflow-x:auto;line-height:normal;font-family:Menlo,'DejaVu Sans Mono',consolas,'Courier New',monospace\"><span style=\"color: #7fbfbf; text-decoration-color: #7fbfbf\">           </span><span style=\"color: #008000; text-decoration-color: #008000\">DEBUG   </span> shadow dataset: <span style=\"color: #008080; text-decoration-color: #008080; font-weight: bold\">9383</span> train nodes, <span style=\"color: #008080; text-decoration-color: #008080; font-weight: bold\">100</span> val nodes, <span style=\"color: #008080; text-decoration-color: #008080; font-weight: bold\">16923</span> test nodes                                                                                                         <a href=\"file:///remote/idiap.svm/user.active/sajadmanesh/Github/GAP/core/attacks/base.py\" target=\"_blank\"><span style=\"color: #7f7f7f; text-decoration-color: #7f7f7f\">base.py</span></a><span style=\"color: #7f7f7f; text-decoration-color: #7f7f7f\">:</span><a href=\"file:///remote/idiap.svm/user.active/sajadmanesh/Github/GAP/core/attacks/base.py#91\" target=\"_blank\"><span style=\"color: #7f7f7f; text-decoration-color: #7f7f7f\">91</span></a>\n",
       "</pre>\n"
      ],
      "text/plain": [
       "\u001b[2;36m          \u001b[0m\u001b[2;36m \u001b[0m\u001b[32mDEBUG   \u001b[0m shadow dataset: \u001b[1;36m9383\u001b[0m train nodes, \u001b[1;36m100\u001b[0m val nodes, \u001b[1;36m16923\u001b[0m test nodes                                                                                                         \u001b]8;id=169541;file:///remote/idiap.svm/user.active/sajadmanesh/Github/GAP/core/attacks/base.py\u001b\\\u001b[2mbase.py\u001b[0m\u001b]8;;\u001b\\\u001b[2m:\u001b[0m\u001b]8;id=130303;file:///remote/idiap.svm/user.active/sajadmanesh/Github/GAP/core/attacks/base.py#91\u001b\\\u001b[2m91\u001b[0m\u001b]8;;\u001b\\\n"
      ]
     },
     "metadata": {},
     "output_type": "display_data"
    },
    {
     "data": {
      "text/html": [
       "<pre style=\"white-space:pre;overflow-x:auto;line-height:normal;font-family:Menlo,'DejaVu Sans Mono',consolas,'Courier New',monospace\"><span style=\"color: #7fbfbf; text-decoration-color: #7fbfbf\">           </span><span style=\"color: #000080; text-decoration-color: #000080\">INFO    </span> step <span style=\"color: #008080; text-decoration-color: #008080; font-weight: bold\">1</span>: training target model                                                                                                                                             <a href=\"file:///remote/idiap.svm/user.active/sajadmanesh/Github/GAP/core/attacks/base.py\" target=\"_blank\"><span style=\"color: #7f7f7f; text-decoration-color: #7f7f7f\">base.py</span></a><span style=\"color: #7f7f7f; text-decoration-color: #7f7f7f\">:</span><a href=\"file:///remote/idiap.svm/user.active/sajadmanesh/Github/GAP/core/attacks/base.py#42\" target=\"_blank\"><span style=\"color: #7f7f7f; text-decoration-color: #7f7f7f\">42</span></a>\n",
       "</pre>\n"
      ],
      "text/plain": [
       "\u001b[2;36m          \u001b[0m\u001b[2;36m \u001b[0m\u001b[34mINFO    \u001b[0m step \u001b[1;36m1\u001b[0m: training target model                                                                                                                                             \u001b]8;id=916638;file:///remote/idiap.svm/user.active/sajadmanesh/Github/GAP/core/attacks/base.py\u001b\\\u001b[2mbase.py\u001b[0m\u001b]8;;\u001b\\\u001b[2m:\u001b[0m\u001b]8;id=273772;file:///remote/idiap.svm/user.active/sajadmanesh/Github/GAP/core/attacks/base.py#42\u001b\\\u001b[2m42\u001b[0m\u001b]8;;\u001b\\\n"
      ]
     },
     "metadata": {},
     "output_type": "display_data"
    },
    {
     "data": {
      "application/vnd.jupyter.widget-view+json": {
       "model_id": "f843d58447eb4df08b20e2e054e2628d",
       "version_major": 2,
       "version_minor": 0
      },
      "text/plain": [
       "Output()"
      ]
     },
     "metadata": {},
     "output_type": "display_data"
    },
    {
     "data": {
      "text/html": [
       "<pre style=\"white-space:pre;overflow-x:auto;line-height:normal;font-family:Menlo,'DejaVu Sans Mono',consolas,'Courier New',monospace\"></pre>\n"
      ],
      "text/plain": []
     },
     "metadata": {},
     "output_type": "display_data"
    },
    {
     "data": {
      "text/html": [
       "<pre style=\"white-space:pre;overflow-x:auto;line-height:normal;font-family:Menlo,'DejaVu Sans Mono',consolas,'Courier New',monospace\">\n",
       "</pre>\n"
      ],
      "text/plain": [
       "\n"
      ]
     },
     "metadata": {},
     "output_type": "display_data"
    },
    {
     "data": {
      "text/html": [
       "<pre style=\"white-space:pre;overflow-x:auto;line-height:normal;font-family:Menlo,'DejaVu Sans Mono',consolas,'Courier New',monospace\"><span style=\"color: #7fbfbf; text-decoration-color: #7fbfbf\">[13:10:09] </span><span style=\"color: #000080; text-decoration-color: #000080\">INFO    </span> step <span style=\"color: #008080; text-decoration-color: #008080; font-weight: bold\">2</span>: training shadow model                                                                                                                                             <a href=\"file:///remote/idiap.svm/user.active/sajadmanesh/Github/GAP/core/attacks/base.py\" target=\"_blank\"><span style=\"color: #7f7f7f; text-decoration-color: #7f7f7f\">base.py</span></a><span style=\"color: #7f7f7f; text-decoration-color: #7f7f7f\">:</span><a href=\"file:///remote/idiap.svm/user.active/sajadmanesh/Github/GAP/core/attacks/base.py#48\" target=\"_blank\"><span style=\"color: #7f7f7f; text-decoration-color: #7f7f7f\">48</span></a>\n",
       "</pre>\n"
      ],
      "text/plain": [
       "\u001b[2;36m[13:10:09]\u001b[0m\u001b[2;36m \u001b[0m\u001b[34mINFO    \u001b[0m step \u001b[1;36m2\u001b[0m: training shadow model                                                                                                                                             \u001b]8;id=589382;file:///remote/idiap.svm/user.active/sajadmanesh/Github/GAP/core/attacks/base.py\u001b\\\u001b[2mbase.py\u001b[0m\u001b]8;;\u001b\\\u001b[2m:\u001b[0m\u001b]8;id=182812;file:///remote/idiap.svm/user.active/sajadmanesh/Github/GAP/core/attacks/base.py#48\u001b\\\u001b[2m48\u001b[0m\u001b]8;;\u001b\\\n"
      ]
     },
     "metadata": {},
     "output_type": "display_data"
    },
    {
     "data": {
      "application/vnd.jupyter.widget-view+json": {
       "model_id": "a3dfca3673584691a5a2f948c3f5a882",
       "version_major": 2,
       "version_minor": 0
      },
      "text/plain": [
       "Output()"
      ]
     },
     "metadata": {},
     "output_type": "display_data"
    },
    {
     "data": {
      "text/html": [
       "<pre style=\"white-space:pre;overflow-x:auto;line-height:normal;font-family:Menlo,'DejaVu Sans Mono',consolas,'Courier New',monospace\"></pre>\n"
      ],
      "text/plain": []
     },
     "metadata": {},
     "output_type": "display_data"
    },
    {
     "data": {
      "text/html": [
       "<pre style=\"white-space:pre;overflow-x:auto;line-height:normal;font-family:Menlo,'DejaVu Sans Mono',consolas,'Courier New',monospace\">\n",
       "</pre>\n"
      ],
      "text/plain": [
       "\n"
      ]
     },
     "metadata": {},
     "output_type": "display_data"
    },
    {
     "data": {
      "text/html": [
       "<pre style=\"white-space:pre;overflow-x:auto;line-height:normal;font-family:Menlo,'DejaVu Sans Mono',consolas,'Courier New',monospace\"><span style=\"color: #7fbfbf; text-decoration-color: #7fbfbf\">[13:10:11] </span><span style=\"color: #008000; text-decoration-color: #008000\">DEBUG   </span> preparing attack dataset: train                                                                                                                                           <a href=\"file:///remote/idiap.svm/user.active/sajadmanesh/Github/GAP/core/attacks/base.py\" target=\"_blank\"><span style=\"color: #7f7f7f; text-decoration-color: #7f7f7f\">base.py</span></a><span style=\"color: #7f7f7f; text-decoration-color: #7f7f7f\">:</span><a href=\"file:///remote/idiap.svm/user.active/sajadmanesh/Github/GAP/core/attacks/base.py#97\" target=\"_blank\"><span style=\"color: #7f7f7f; text-decoration-color: #7f7f7f\">97</span></a>\n",
       "</pre>\n"
      ],
      "text/plain": [
       "\u001b[2;36m[13:10:11]\u001b[0m\u001b[2;36m \u001b[0m\u001b[32mDEBUG   \u001b[0m preparing attack dataset: train                                                                                                                                           \u001b]8;id=641486;file:///remote/idiap.svm/user.active/sajadmanesh/Github/GAP/core/attacks/base.py\u001b\\\u001b[2mbase.py\u001b[0m\u001b]8;;\u001b\\\u001b[2m:\u001b[0m\u001b]8;id=195883;file:///remote/idiap.svm/user.active/sajadmanesh/Github/GAP/core/attacks/base.py#97\u001b\\\u001b[2m97\u001b[0m\u001b]8;;\u001b\\\n"
      ]
     },
     "metadata": {},
     "output_type": "display_data"
    },
    {
     "data": {
      "application/vnd.jupyter.widget-view+json": {
       "model_id": "a0f93c93625e49e5af69ce8b1f766848",
       "version_major": 2,
       "version_minor": 0
      },
      "text/plain": [
       "Output()"
      ]
     },
     "metadata": {},
     "output_type": "display_data"
    },
    {
     "data": {
      "text/html": [
       "<pre style=\"white-space:pre;overflow-x:auto;line-height:normal;font-family:Menlo,'DejaVu Sans Mono',consolas,'Courier New',monospace\"><span style=\"color: #7fbfbf; text-decoration-color: #7fbfbf\">[13:12:37] </span><span style=\"color: #008000; text-decoration-color: #008000\">DEBUG   </span> pos_entropy: <span style=\"color: #008080; text-decoration-color: #008080; font-weight: bold\">0.4254</span>, neg_entropy: <span style=\"color: #008080; text-decoration-color: #008080; font-weight: bold\">0.4384</span>                                                                                                                                   <a href=\"file:///remote/idiap.svm/user.active/sajadmanesh/Github/GAP/core/attacks/nmi.py\" target=\"_blank\"><span style=\"color: #7f7f7f; text-decoration-color: #7f7f7f\">nmi.py</span></a><span style=\"color: #7f7f7f; text-decoration-color: #7f7f7f\">:</span><a href=\"file:///remote/idiap.svm/user.active/sajadmanesh/Github/GAP/core/attacks/nmi.py#36\" target=\"_blank\"><span style=\"color: #7f7f7f; text-decoration-color: #7f7f7f\">36</span></a>\n",
       "</pre>\n"
      ],
      "text/plain": [
       "\u001b[2;36m[13:12:37]\u001b[0m\u001b[2;36m \u001b[0m\u001b[32mDEBUG   \u001b[0m pos_entropy: \u001b[1;36m0.4254\u001b[0m, neg_entropy: \u001b[1;36m0.4384\u001b[0m                                                                                                                                   \u001b]8;id=774004;file:///remote/idiap.svm/user.active/sajadmanesh/Github/GAP/core/attacks/nmi.py\u001b\\\u001b[2mnmi.py\u001b[0m\u001b]8;;\u001b\\\u001b[2m:\u001b[0m\u001b]8;id=95728;file:///remote/idiap.svm/user.active/sajadmanesh/Github/GAP/core/attacks/nmi.py#36\u001b\\\u001b[2m36\u001b[0m\u001b]8;;\u001b\\\n"
      ]
     },
     "metadata": {},
     "output_type": "display_data"
    },
    {
     "data": {
      "text/html": [
       "<pre style=\"white-space:pre;overflow-x:auto;line-height:normal;font-family:Menlo,'DejaVu Sans Mono',consolas,'Courier New',monospace\"><span style=\"color: #7fbfbf; text-decoration-color: #7fbfbf\">           </span><span style=\"color: #008000; text-decoration-color: #008000\">DEBUG   </span> preparing attack dataset: test                                                                                                                                           <a href=\"file:///remote/idiap.svm/user.active/sajadmanesh/Github/GAP/core/attacks/base.py\" target=\"_blank\"><span style=\"color: #7f7f7f; text-decoration-color: #7f7f7f\">base.py</span></a><span style=\"color: #7f7f7f; text-decoration-color: #7f7f7f\">:</span><a href=\"file:///remote/idiap.svm/user.active/sajadmanesh/Github/GAP/core/attacks/base.py#105\" target=\"_blank\"><span style=\"color: #7f7f7f; text-decoration-color: #7f7f7f\">105</span></a>\n",
       "</pre>\n"
      ],
      "text/plain": [
       "\u001b[2;36m          \u001b[0m\u001b[2;36m \u001b[0m\u001b[32mDEBUG   \u001b[0m preparing attack dataset: test                                                                                                                                           \u001b]8;id=556838;file:///remote/idiap.svm/user.active/sajadmanesh/Github/GAP/core/attacks/base.py\u001b\\\u001b[2mbase.py\u001b[0m\u001b]8;;\u001b\\\u001b[2m:\u001b[0m\u001b]8;id=432138;file:///remote/idiap.svm/user.active/sajadmanesh/Github/GAP/core/attacks/base.py#105\u001b\\\u001b[2m105\u001b[0m\u001b]8;;\u001b\\\n"
      ]
     },
     "metadata": {},
     "output_type": "display_data"
    },
    {
     "data": {
      "text/html": [
       "<pre style=\"white-space:pre;overflow-x:auto;line-height:normal;font-family:Menlo,'DejaVu Sans Mono',consolas,'Courier New',monospace\"><span style=\"color: #7fbfbf; text-decoration-color: #7fbfbf\">           </span><span style=\"color: #008000; text-decoration-color: #008000\">DEBUG   </span> pos_entropy: <span style=\"color: #008080; text-decoration-color: #008080; font-weight: bold\">0.4275</span>, neg_entropy: <span style=\"color: #008080; text-decoration-color: #008080; font-weight: bold\">0.4340</span>                                                                                                                                   <a href=\"file:///remote/idiap.svm/user.active/sajadmanesh/Github/GAP/core/attacks/nmi.py\" target=\"_blank\"><span style=\"color: #7f7f7f; text-decoration-color: #7f7f7f\">nmi.py</span></a><span style=\"color: #7f7f7f; text-decoration-color: #7f7f7f\">:</span><a href=\"file:///remote/idiap.svm/user.active/sajadmanesh/Github/GAP/core/attacks/nmi.py#36\" target=\"_blank\"><span style=\"color: #7f7f7f; text-decoration-color: #7f7f7f\">36</span></a>\n",
       "</pre>\n"
      ],
      "text/plain": [
       "\u001b[2;36m          \u001b[0m\u001b[2;36m \u001b[0m\u001b[32mDEBUG   \u001b[0m pos_entropy: \u001b[1;36m0.4275\u001b[0m, neg_entropy: \u001b[1;36m0.4340\u001b[0m                                                                                                                                   \u001b]8;id=613471;file:///remote/idiap.svm/user.active/sajadmanesh/Github/GAP/core/attacks/nmi.py\u001b\\\u001b[2mnmi.py\u001b[0m\u001b]8;;\u001b\\\u001b[2m:\u001b[0m\u001b]8;id=528414;file:///remote/idiap.svm/user.active/sajadmanesh/Github/GAP/core/attacks/nmi.py#36\u001b\\\u001b[2m36\u001b[0m\u001b]8;;\u001b\\\n"
      ]
     },
     "metadata": {},
     "output_type": "display_data"
    },
    {
     "data": {
      "text/html": [
       "<pre style=\"white-space:pre;overflow-x:auto;line-height:normal;font-family:Menlo,'DejaVu Sans Mono',consolas,'Courier New',monospace\"><span style=\"color: #7fbfbf; text-decoration-color: #7fbfbf\">           </span><span style=\"color: #008000; text-decoration-color: #008000\">DEBUG   </span> attack dataset: <span style=\"color: #008080; text-decoration-color: #008080; font-weight: bold\">15012</span> train nodes, <span style=\"color: #008080; text-decoration-color: #008080; font-weight: bold\">3754</span> val nodes, <span style=\"color: #008080; text-decoration-color: #008080; font-weight: bold\">18766</span> test nodes                                                                                                       <a href=\"file:///remote/idiap.svm/user.active/sajadmanesh/Github/GAP/core/attacks/base.py\" target=\"_blank\"><span style=\"color: #7f7f7f; text-decoration-color: #7f7f7f\">base.py</span></a><span style=\"color: #7f7f7f; text-decoration-color: #7f7f7f\">:</span><a href=\"file:///remote/idiap.svm/user.active/sajadmanesh/Github/GAP/core/attacks/base.py#58\" target=\"_blank\"><span style=\"color: #7f7f7f; text-decoration-color: #7f7f7f\">58</span></a>\n",
       "</pre>\n"
      ],
      "text/plain": [
       "\u001b[2;36m          \u001b[0m\u001b[2;36m \u001b[0m\u001b[32mDEBUG   \u001b[0m attack dataset: \u001b[1;36m15012\u001b[0m train nodes, \u001b[1;36m3754\u001b[0m val nodes, \u001b[1;36m18766\u001b[0m test nodes                                                                                                       \u001b]8;id=174664;file:///remote/idiap.svm/user.active/sajadmanesh/Github/GAP/core/attacks/base.py\u001b\\\u001b[2mbase.py\u001b[0m\u001b]8;;\u001b\\\u001b[2m:\u001b[0m\u001b]8;id=215706;file:///remote/idiap.svm/user.active/sajadmanesh/Github/GAP/core/attacks/base.py#58\u001b\\\u001b[2m58\u001b[0m\u001b]8;;\u001b\\\n"
      ]
     },
     "metadata": {},
     "output_type": "display_data"
    },
    {
     "data": {
      "text/html": [
       "<pre style=\"white-space:pre;overflow-x:auto;line-height:normal;font-family:Menlo,'DejaVu Sans Mono',consolas,'Courier New',monospace\"></pre>\n"
      ],
      "text/plain": []
     },
     "metadata": {},
     "output_type": "display_data"
    },
    {
     "data": {
      "text/html": [
       "<pre style=\"white-space:pre;overflow-x:auto;line-height:normal;font-family:Menlo,'DejaVu Sans Mono',consolas,'Courier New',monospace\"><span style=\"color: #7fbfbf; text-decoration-color: #7fbfbf\">           </span><span style=\"color: #000080; text-decoration-color: #000080\">INFO    </span> constructing attack dataset<span style=\"color: #808000; text-decoration-color: #808000\">...</span>done in <span style=\"color: #008080; text-decoration-color: #008080; font-weight: bold\">146.61</span> s                                                                                                                            <a href=\"file:///remote/idiap.svm/user.active/sajadmanesh/Github/GAP/core/attacks/base.py\" target=\"_blank\"><span style=\"color: #7f7f7f; text-decoration-color: #7f7f7f\">base.py</span></a><span style=\"color: #7f7f7f; text-decoration-color: #7f7f7f\">:</span><a href=\"file:///remote/idiap.svm/user.active/sajadmanesh/Github/GAP/core/attacks/base.py#58\" target=\"_blank\"><span style=\"color: #7f7f7f; text-decoration-color: #7f7f7f\">58</span></a>\n",
       "</pre>\n"
      ],
      "text/plain": [
       "\u001b[2;36m          \u001b[0m\u001b[2;36m \u001b[0m\u001b[34mINFO    \u001b[0m constructing attack dataset\u001b[33m...\u001b[0mdone in \u001b[1;36m146.61\u001b[0m s                                                                                                                            \u001b]8;id=753891;file:///remote/idiap.svm/user.active/sajadmanesh/Github/GAP/core/attacks/base.py\u001b\\\u001b[2mbase.py\u001b[0m\u001b]8;;\u001b\\\u001b[2m:\u001b[0m\u001b]8;id=81623;file:///remote/idiap.svm/user.active/sajadmanesh/Github/GAP/core/attacks/base.py#58\u001b\\\u001b[2m58\u001b[0m\u001b]8;;\u001b\\\n"
      ]
     },
     "metadata": {},
     "output_type": "display_data"
    },
    {
     "data": {
      "text/html": [
       "<pre style=\"white-space:pre;overflow-x:auto;line-height:normal;font-family:Menlo,'DejaVu Sans Mono',consolas,'Courier New',monospace\"><span style=\"color: #7fbfbf; text-decoration-color: #7fbfbf\">           </span><span style=\"color: #000080; text-decoration-color: #000080\">INFO    </span> step <span style=\"color: #008080; text-decoration-color: #008080; font-weight: bold\">3</span>: training attack model                                                                                                                                             <a href=\"file:///remote/idiap.svm/user.active/sajadmanesh/Github/GAP/core/attacks/base.py\" target=\"_blank\"><span style=\"color: #7f7f7f; text-decoration-color: #7f7f7f\">base.py</span></a><span style=\"color: #7f7f7f; text-decoration-color: #7f7f7f\">:</span><a href=\"file:///remote/idiap.svm/user.active/sajadmanesh/Github/GAP/core/attacks/base.py#61\" target=\"_blank\"><span style=\"color: #7f7f7f; text-decoration-color: #7f7f7f\">61</span></a>\n",
       "</pre>\n"
      ],
      "text/plain": [
       "\u001b[2;36m          \u001b[0m\u001b[2;36m \u001b[0m\u001b[34mINFO    \u001b[0m step \u001b[1;36m3\u001b[0m: training attack model                                                                                                                                             \u001b]8;id=199199;file:///remote/idiap.svm/user.active/sajadmanesh/Github/GAP/core/attacks/base.py\u001b\\\u001b[2mbase.py\u001b[0m\u001b]8;;\u001b\\\u001b[2m:\u001b[0m\u001b]8;id=358152;file:///remote/idiap.svm/user.active/sajadmanesh/Github/GAP/core/attacks/base.py#61\u001b\\\u001b[2m61\u001b[0m\u001b]8;;\u001b\\\n"
      ]
     },
     "metadata": {},
     "output_type": "display_data"
    },
    {
     "data": {
      "application/vnd.jupyter.widget-view+json": {
       "model_id": "2a2c028c28e6477eb507877314386908",
       "version_major": 2,
       "version_minor": 0
      },
      "text/plain": [
       "Output()"
      ]
     },
     "metadata": {},
     "output_type": "display_data"
    }
   ],
   "source": [
    "from core.console import console\n",
    "console.width = 200\n",
    "with console.status('importing modules'):\n",
    "    import torch\n",
    "    import numpy as np\n",
    "    from time import time\n",
    "    from typing import Annotated\n",
    "    from argparse import ArgumentParser, ArgumentDefaultsHelpFormatter\n",
    "    from core.datasets import DatasetLoader\n",
    "    from core.args.utils import print_args, strip_kwargs, create_arguments, remove_prefix\n",
    "    from core.loggers import Logger\n",
    "    from core.methods.base import MethodBase\n",
    "    from core.methods.gap import GAP, EdgePrivGAP, NodePrivGAP\n",
    "    from core.methods.sage import SAGE, EdgePrivSAGE, NodePrivSAGE\n",
    "    from core.methods.mlp import MLP, PrivMLP\n",
    "    from core.attacks import AttackBase, LinkStealingAttack, NodeMembershipInference\n",
    "    from core.utils import seed_everything, confidence_interval\n",
    "    from torch_geometric.data import Data\n",
    "\n",
    "supported_methods = {\n",
    "    'gap-inf':  GAP,\n",
    "    'gap-edp':  EdgePrivGAP,\n",
    "    'gap-ndp':  NodePrivGAP,\n",
    "    'sage-inf': SAGE,\n",
    "    'sage-edp': EdgePrivSAGE,\n",
    "    'sage-ndp': NodePrivSAGE,\n",
    "    'mlp':      MLP,\n",
    "    'mlp-dp':   PrivMLP\n",
    "}\n",
    "\n",
    "supported_attacks = {\n",
    "    'lsa': LinkStealingAttack,\n",
    "    'nmi': NodeMembershipInference,\n",
    "}\n",
    "\n",
    "def run(device:  Annotated[str,   dict(help='device to use', choices=['cpu', 'cuda'])] = 'cuda',\n",
    "        use_amp: Annotated[bool,  dict(help='use automatic mixed precision training')] = False,\n",
    "        seed:    Annotated[int,   dict(help='initial random seed')] = 12345,\n",
    "        repeats: Annotated[int,   dict(help='number of times the experiment is repeated')] = 1,\n",
    "        **kwargs\n",
    "    ):\n",
    "\n",
    "    seed_everything(seed)\n",
    "\n",
    "    with console.status('loading dataset'):\n",
    "        loader_args = strip_kwargs(DatasetLoader, kwargs)\n",
    "        data_initial = DatasetLoader(**loader_args).load(verbose=True)\n",
    "\n",
    "    num_classes = data_initial.y.max().item() + 1\n",
    "    config = dict(**kwargs, seed=seed, repeats=repeats)\n",
    "    logger_args = strip_kwargs(Logger.setup, kwargs)\n",
    "    logger = Logger.setup(enabled=False, config=config, **logger_args)\n",
    "\n",
    "    ### initiallize method ###\n",
    "    Method = supported_methods[kwargs.pop('method')]\n",
    "    method_args = strip_kwargs(Method, kwargs, prefix='target_')\n",
    "    method_args = remove_prefix(method_args, prefix='target_')\n",
    "    method: MethodBase = Method(\n",
    "        num_classes=num_classes, \n",
    "        device=device,\n",
    "        use_amp=use_amp,\n",
    "        **method_args\n",
    "    )\n",
    "\n",
    "    ### initialize attack ###\n",
    "    Attack = supported_attacks[kwargs['attack']]\n",
    "    attack_args = strip_kwargs(Attack, kwargs)\n",
    "    attack: AttackBase = Attack(\n",
    "        method=method, \n",
    "        device=device,\n",
    "        use_amp=use_amp,\n",
    "        **attack_args\n",
    "    )\n",
    "\n",
    "    run_metrics = {}\n",
    "\n",
    "    ### run experiment ###\n",
    "    for iteration in range(repeats):\n",
    "        data = Data(**data_initial.to_dict())\n",
    "        with console.status(f'moving data to {device}'):\n",
    "            data.to(device)\n",
    "\n",
    "        start_time = time()\n",
    "        metrics = attack.execute(data)\n",
    "        end_time = time()\n",
    "        metrics['fit_time'] = end_time - start_time\n",
    "\n",
    "        ### process results ###\n",
    "        for metric, value in metrics.items():\n",
    "            run_metrics[metric] = run_metrics.get(metric, []) + [value]\n",
    "        \n",
    "        console.print()\n",
    "        console.info(f'run: {iteration + 1}/{repeats}')\n",
    "        console.info(f'target/train/acc: {run_metrics[\"target/train/acc\"][-1]:.2f}\\t average: {np.mean(run_metrics[\"target/train/acc\"]):.2f}')\n",
    "        console.info(f'target/test/acc: {run_metrics[\"target/test/acc\"][-1]:.2f}\\t average: {np.mean(run_metrics[\"target/test/acc\"]):.2f}')\n",
    "        console.info(f'shadow/train/acc: {run_metrics[\"shadow/train/acc\"][-1]:.2f}\\t average: {np.mean(run_metrics[\"shadow/train/acc\"]):.2f}')\n",
    "        console.info(f'shadow/test/acc: {run_metrics[\"shadow/test/acc\"][-1]:.2f}\\t average: {np.mean(run_metrics[\"shadow/test/acc\"]):.2f}')\n",
    "        console.info(f'attack/test/acc: {run_metrics[\"attack/test/acc\"][-1]:.2f}\\t average: {np.mean(run_metrics[\"attack/test/acc\"]):.2f}')\n",
    "        console.info(f'attack/adv: {run_metrics[\"attack/adv\"][-1]:.4f}\\t average: {np.mean(run_metrics[\"attack/adv\"]):.4f}')\n",
    "        console.print()\n",
    "\n",
    "        attack.reset_parameters()\n",
    "\n",
    "    logger.enable()\n",
    "    summary = {}\n",
    "    \n",
    "    for metric, values in run_metrics.items():\n",
    "        summary[metric + '_mean'] = np.mean(values)\n",
    "        summary[metric + '_std'] = np.std(values)\n",
    "        summary[metric + '_ci'] = confidence_interval(values, size=1000, ci=95, seed=seed)\n",
    "        logger.log_summary(summary)\n",
    "\n",
    "    logger.finish()\n",
    "    print()\n",
    "\n",
    "\n",
    "def main():\n",
    "    init_parser = ArgumentParser(add_help=False, conflict_handler='resolve')\n",
    "    method_subparser = init_parser.add_subparsers(dest='method', required=True, title='algorithm to use')\n",
    "\n",
    "    for method_name, method_class in supported_methods.items():\n",
    "        method_parser = method_subparser.add_parser(\n",
    "            name=method_name, \n",
    "            help=method_class.__doc__, \n",
    "            formatter_class=ArgumentDefaultsHelpFormatter\n",
    "        )\n",
    "        attack_subparser = method_parser.add_subparsers(dest='attack', required=True, title='attack to perform')\n",
    "\n",
    "        for attack_name, attack_class in supported_attacks.items():\n",
    "            attack_parser = attack_subparser.add_parser(\n",
    "                name=attack_name,\n",
    "                help=attack_class.__doc__,\n",
    "                formatter_class=ArgumentDefaultsHelpFormatter\n",
    "            )\n",
    "\n",
    "            # dataset args\n",
    "            group_dataset = attack_parser.add_argument_group('dataset arguments')\n",
    "            create_arguments(DatasetLoader, group_dataset)\n",
    "\n",
    "            # target method args\n",
    "            group_method = attack_parser.add_argument_group('method arguments')\n",
    "            create_arguments(method_class, group_method, prefix='target_')\n",
    "\n",
    "            # attack method args\n",
    "            group_attack = attack_parser.add_argument_group('attack arguments')\n",
    "            create_arguments(attack_class, group_attack)\n",
    "            \n",
    "            # experiment args\n",
    "            group_expr = attack_parser.add_argument_group('experiment arguments')\n",
    "            create_arguments(run, group_expr)\n",
    "            create_arguments(Logger.setup, group_expr)\n",
    "\n",
    "    parser = ArgumentParser(parents=[init_parser], formatter_class=ArgumentDefaultsHelpFormatter)\n",
    "    kwargs = vars(parser.parse_args(\n",
    "        args='mlp nmi --target-activation relu --target-batch-norm false --target-val-interval 0 --target-hidden-dim 512 --target-num-layers 4'.split()\n",
    "    ))\n",
    "    print_args(kwargs, num_cols=4)\n",
    "\n",
    "    if kwargs['device'] == 'cuda' and not torch.cuda.is_available():\n",
    "        console.warning('CUDA is not available, proceeding with CPU') \n",
    "        kwargs['device'] = 'cpu'\n",
    "\n",
    "    try:\n",
    "        start = time()\n",
    "        run(**kwargs)\n",
    "        end = time()\n",
    "        console.info(f'Total running time: {(end - start):.2f} seconds.')\n",
    "    except KeyboardInterrupt:\n",
    "        print('\\n')\n",
    "        console.warning('Graceful Shutdown')\n",
    "    \n",
    "    if kwargs['device'] == 'cuda':\n",
    "        gpu_mem = torch.cuda.max_memory_allocated() / 1024 ** 3\n",
    "        console.info(f'Max GPU memory used = {gpu_mem:.2f} GB\\n')\n",
    "\n",
    "main()"
   ]
  },
  {
   "cell_type": "code",
   "execution_count": null,
   "metadata": {},
   "outputs": [],
   "source": []
  }
 ],
 "metadata": {
  "kernelspec": {
   "display_name": "Python 3.9.12 ('gap')",
   "language": "python",
   "name": "python3"
  },
  "language_info": {
   "codemirror_mode": {
    "name": "ipython",
    "version": 3
   },
   "file_extension": ".py",
   "mimetype": "text/x-python",
   "name": "python",
   "nbconvert_exporter": "python",
   "pygments_lexer": "ipython3",
   "version": "3.9.12"
  },
  "orig_nbformat": 4,
  "vscode": {
   "interpreter": {
    "hash": "1690ba48bac90b79f9fd48f79bebd053e96f578825c64a887e5d9c95b0e7c0e7"
   }
  }
 },
 "nbformat": 4,
 "nbformat_minor": 2
}
