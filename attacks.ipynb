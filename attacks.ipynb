{
 "cells": [
  {
   "cell_type": "code",
   "execution_count": 1,
   "id": "ac38016c-7f0f-4c45-8c06-588afdcb8fe6",
   "metadata": {
    "tags": []
   },
   "outputs": [],
   "source": [
    "%reload_ext autoreload\n",
    "%autoreload 2\n",
    "\n",
    "from core.experiments import RunFactory"
   ]
  },
  {
   "cell_type": "code",
   "execution_count": 2,
   "id": "b7f97320-5fd2-436a-8ef1-6d85957407e9",
   "metadata": {},
   "outputs": [],
   "source": [
    "wandb_user = 'sisaman'\n",
    "wandb_project = 'GAP-ATTACK'\n",
    "\n",
    "run_factory = RunFactory(\n",
    "    main_file='attack.py', \n",
    "    entity=wandb_user,\n",
    "    project=wandb_project, \n",
    "    check_existing=True\n",
    ")"
   ]
  },
  {
   "cell_type": "markdown",
   "id": "09fd51b9-3ff7-42ff-88f8-9fbf7bc5f675",
   "metadata": {},
   "source": [
    "# Experiments"
   ]
  },
  {
   "cell_type": "markdown",
   "id": "d2692e1d",
   "metadata": {},
   "source": [
    "### Hyper-parameters"
   ]
  },
  {
   "cell_type": "code",
   "execution_count": 3,
   "id": "d0c10b08",
   "metadata": {},
   "outputs": [],
   "source": [
    "datasets = ['facebook', 'reddit', 'amazon']\n",
    "batch_size = 256\n",
    "\n",
    "\n",
    "gap_methods  = ['gap-inf', 'gap-ndp']\n",
    "sage_methods = ['sage-inf', 'sage-ndp']\n",
    "mlp_methods  = ['mlp', 'mlp-dp']\n",
    "ndp_methods  = ['gap-ndp', 'sage-ndp', 'mlp-dp']\n",
    "all_methods  = gap_methods + sage_methods + mlp_methods\n",
    "\n",
    "hparams = {dataset: {method: {} for method in all_methods} for dataset in datasets}\n",
    "\n",
    "for dataset in datasets:\n",
    "    # For GAP methods\n",
    "    for method in gap_methods:\n",
    "        hparams[dataset][method]['target_encoder_layers'] = 2\n",
    "        hparams[dataset][method]['target_base_layers'] = 1\n",
    "        hparams[dataset][method]['target_head_layers'] = 1\n",
    "        hparams[dataset][method]['target_combine'] = 'cat'\n",
    "        hparams[dataset][method]['target_hops'] = 2\n",
    "\n",
    "    # For SAGE methods\n",
    "    for method in sage_methods:\n",
    "        hparams[dataset][method]['target_base_layers'] = 2\n",
    "        hparams[dataset][method]['target_head_layers'] = 1\n",
    "        if method != 'sage-ndp':\n",
    "            hparams[dataset][method]['target_mp_layers'] = 2\n",
    "        \n",
    "    # For MLP methods\n",
    "    for method in mlp_methods:\n",
    "        hparams[dataset][method]['target_num_layers'] = 3\n",
    "\n",
    "    # For GAP-NDP and SAGE-NDP\n",
    "    for method in ['gap-ndp', 'sage-ndp']:\n",
    "        hparams[dataset][method]['target_max_degree'] = 100\n",
    "\n",
    "    # For all methods\n",
    "    for method in all_methods:\n",
    "        hparams[dataset][method]['target_hidden_dim'] = 64\n",
    "        hparams[dataset][method]['target_activation'] = 'selu'\n",
    "        hparams[dataset][method]['target_optimizer'] = 'adam'\n",
    "        hparams[dataset][method]['target_learning_rate'] = 0.01\n",
    "        \n",
    "        if method in ndp_methods:\n",
    "            hparams[dataset][method]['target_max_grad_norm'] = 1\n",
    "            hparams[dataset][method]['target_epochs'] = 10\n",
    "            hparams[dataset][method]['target_batch_size'] = 256\n",
    "\n",
    "        else:\n",
    "            hparams[dataset][method]['target_batch_norm'] = True\n",
    "            hparams[dataset][method]['target_epochs'] = 100\n",
    "            hparams[dataset][method]['target_batch_size'] = 'full'\n",
    "\n",
    "        if method != 'sage-ndp':\n",
    "            hparams[dataset][method]['target_val_interval'] = 0\n",
    "\n",
    "        if method in gap_methods:\n",
    "            hparams[dataset][method]['target_encoder_epochs'] = hparams[dataset][method]['target_epochs']\n",
    "\n",
    "        hparams[dataset][method]['num_nodes_per_class'] = 1000\n",
    "        hparams[dataset][method]['attack_hidden_dim'] = 64\n",
    "        hparams[dataset][method]['attack_num_layers'] = 3\n",
    "        hparams[dataset][method]['attack_activation'] = 'selu'\n",
    "        hparams[dataset][method]['attack_batch_norm'] = True\n",
    "        hparams[dataset][method]['attack_batch_size'] = 'full'\n",
    "        hparams[dataset][method]['attack_epochs'] = 100\n",
    "        hparams[dataset][method]['attack_optimizer'] = 'adam'\n",
    "        hparams[dataset][method]['attack_learning_rate'] = 0.01\n",
    "        hparams[dataset][method]['attack_val_interval'] = 1\n",
    "        hparams[dataset][method]['repeats'] = 10\n"
   ]
  },
  {
   "cell_type": "markdown",
   "id": "e23fe7a4",
   "metadata": {},
   "source": [
    "### Attack Experiments"
   ]
  },
  {
   "cell_type": "code",
   "execution_count": 4,
   "id": "52368aff",
   "metadata": {},
   "outputs": [
    {
     "name": "stdout",
     "output_type": "stream",
     "text": [
      "Saved 54 runs to jobs/gap-attack.sh\n"
     ]
    }
   ],
   "source": [
    "for dataset in datasets:\n",
    "    for method in all_methods:\n",
    "        params = {}\n",
    "        if method in ndp_methods:\n",
    "            params['target_epsilon'] = [1, 2, 4, 8, 16]\n",
    "        \n",
    "        run_factory.register(\n",
    "            method, \n",
    "            'nmi',\n",
    "            dataset=dataset,\n",
    "            **params, \n",
    "            **hparams[dataset][method]\n",
    "        )\n",
    "\n",
    "run_factory.save(path='jobs/gap-attack.sh')"
   ]
  },
  {
   "cell_type": "code",
   "execution_count": null,
   "id": "566ac4d1",
   "metadata": {},
   "outputs": [],
   "source": []
  }
 ],
 "metadata": {
  "interpreter": {
   "hash": "1690ba48bac90b79f9fd48f79bebd053e96f578825c64a887e5d9c95b0e7c0e7"
  },
  "kernelspec": {
   "display_name": "Python 3.9.12 ('gap')",
   "language": "python",
   "name": "python3"
  },
  "language_info": {
   "codemirror_mode": {
    "name": "ipython",
    "version": 3
   },
   "file_extension": ".py",
   "mimetype": "text/x-python",
   "name": "python",
   "nbconvert_exporter": "python",
   "pygments_lexer": "ipython3",
   "version": "3.9.13"
  }
 },
 "nbformat": 4,
 "nbformat_minor": 5
}
